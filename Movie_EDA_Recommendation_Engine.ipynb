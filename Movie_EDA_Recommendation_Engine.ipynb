{
 "cells": [
  {
   "cell_type": "code",
   "execution_count": 1,
   "metadata": {},
   "outputs": [],
   "source": [
    "import re\n",
    "import string\n",
    "import pandas as pd \n",
    "import numpy as np\n",
    "import matplotlib.pyplot as plt\n",
    "import seaborn as sns\n",
    "%matplotlib inline\n",
    "\n",
    "from nltk import flatten\n",
    "from collections import Counter\n",
    "from sklearn.feature_extraction.text import CountVectorizer\n",
    "from sklearn.metrics.pairwise import cosine_similarity\n",
    "\n",
    "import warnings\n",
    "warnings.filterwarnings(\"ignore\")"
   ]
  },
  {
   "cell_type": "code",
   "execution_count": 2,
   "metadata": {},
   "outputs": [],
   "source": [
    "df = pd.read_csv('df.csv')\n",
    "df = df.rename(columns={'Unnamed: 0':'index'})\n",
    "df = df.fillna('')"
   ]
  },
  {
   "cell_type": "code",
   "execution_count": 3,
   "metadata": {},
   "outputs": [
    {
     "data": {
      "text/plain": [
       "Index(['index', 'adult', 'original_language', 'original_title', 'overview',\n",
       "       'popularity', 'tagline', 'vote_average', 'vote_count', 'imdbId',\n",
       "       'tmdbId', 'new_genres', 'new_production_companies',\n",
       "       'new_production_countries', 'new_spoken_languages', 'new_keywords',\n",
       "       'new_cast', 'combine_text'],\n",
       "      dtype='object')"
      ]
     },
     "execution_count": 3,
     "metadata": {},
     "output_type": "execute_result"
    }
   ],
   "source": [
    "df.columns"
   ]
  },
  {
   "cell_type": "code",
   "execution_count": 4,
   "metadata": {},
   "outputs": [],
   "source": [
    "df = df[['index','original_title','imdbId','tmdbId','original_language','adult','popularity',\n",
    "         'vote_average','vote_count','new_genres','new_production_companies','new_production_countries',\n",
    "         'new_spoken_languages','new_cast','new_keywords','tagline','overview','combine_text']]"
   ]
  },
  {
   "cell_type": "code",
   "execution_count": 5,
   "metadata": {},
   "outputs": [
    {
     "data": {
      "text/html": [
       "<div>\n",
       "<style scoped>\n",
       "    .dataframe tbody tr th:only-of-type {\n",
       "        vertical-align: middle;\n",
       "    }\n",
       "\n",
       "    .dataframe tbody tr th {\n",
       "        vertical-align: top;\n",
       "    }\n",
       "\n",
       "    .dataframe thead th {\n",
       "        text-align: right;\n",
       "    }\n",
       "</style>\n",
       "<table border=\"1\" class=\"dataframe\">\n",
       "  <thead>\n",
       "    <tr style=\"text-align: right;\">\n",
       "      <th></th>\n",
       "      <th>index</th>\n",
       "      <th>original_title</th>\n",
       "      <th>imdbId</th>\n",
       "      <th>tmdbId</th>\n",
       "      <th>original_language</th>\n",
       "      <th>adult</th>\n",
       "      <th>popularity</th>\n",
       "      <th>vote_average</th>\n",
       "      <th>vote_count</th>\n",
       "      <th>new_genres</th>\n",
       "      <th>new_production_companies</th>\n",
       "      <th>new_production_countries</th>\n",
       "      <th>new_spoken_languages</th>\n",
       "      <th>new_cast</th>\n",
       "      <th>new_keywords</th>\n",
       "      <th>tagline</th>\n",
       "      <th>overview</th>\n",
       "      <th>combine_text</th>\n",
       "    </tr>\n",
       "  </thead>\n",
       "  <tbody>\n",
       "    <tr>\n",
       "      <td>0</td>\n",
       "      <td>0</td>\n",
       "      <td>Toy Story</td>\n",
       "      <td>114709</td>\n",
       "      <td>862</td>\n",
       "      <td>en</td>\n",
       "      <td>False</td>\n",
       "      <td>21.946943</td>\n",
       "      <td>7.7</td>\n",
       "      <td>5415.0</td>\n",
       "      <td>'Animation', 'Comedy', 'Family'</td>\n",
       "      <td>'Pixar Animation Studios'</td>\n",
       "      <td>'United States of America'</td>\n",
       "      <td>'English'</td>\n",
       "      <td>'Tom Hanks', 'Tim Allen', 'Don Rickles', 'Jim ...</td>\n",
       "      <td>'jealousy', 'toy', 'boy', 'friendship', 'frien...</td>\n",
       "      <td></td>\n",
       "      <td>Led by Woody, Andy's toys live happily in his ...</td>\n",
       "      <td>led by woody, andy's toys live happily in his ...</td>\n",
       "    </tr>\n",
       "    <tr>\n",
       "      <td>1</td>\n",
       "      <td>1</td>\n",
       "      <td>Jumanji</td>\n",
       "      <td>113497</td>\n",
       "      <td>8844</td>\n",
       "      <td>en</td>\n",
       "      <td>False</td>\n",
       "      <td>17.015539</td>\n",
       "      <td>6.9</td>\n",
       "      <td>2413.0</td>\n",
       "      <td>'Adventure', 'Fantasy', 'Family'</td>\n",
       "      <td>'TriStar Pictures', 'Teitler Film', 'Interscop...</td>\n",
       "      <td>'United States of America'</td>\n",
       "      <td>'English', 'Français'</td>\n",
       "      <td>'Robin Williams', 'Jonathan Hyde', 'Kirsten Du...</td>\n",
       "      <td>'board game', 'disappearance', \"based on child...</td>\n",
       "      <td>Roll the dice and unleash the excitement!</td>\n",
       "      <td>When siblings Judy and Peter discover an encha...</td>\n",
       "      <td>when siblings judy and peter discover an encha...</td>\n",
       "    </tr>\n",
       "    <tr>\n",
       "      <td>2</td>\n",
       "      <td>2</td>\n",
       "      <td>Grumpier Old Men</td>\n",
       "      <td>113228</td>\n",
       "      <td>15602</td>\n",
       "      <td>en</td>\n",
       "      <td>False</td>\n",
       "      <td>11.712900</td>\n",
       "      <td>6.5</td>\n",
       "      <td>92.0</td>\n",
       "      <td>'Romance', 'Comedy'</td>\n",
       "      <td>'Warner Bros.', 'Lancaster Gate'</td>\n",
       "      <td>'United States of America'</td>\n",
       "      <td>'English'</td>\n",
       "      <td>'Walter Matthau', 'Jack Lemmon', 'Ann-Margret'...</td>\n",
       "      <td>'fishing', 'best friend', 'duringcreditsstinge...</td>\n",
       "      <td>Still Yelling. Still Fighting. Still Ready for...</td>\n",
       "      <td>A family wedding reignites the ancient feud be...</td>\n",
       "      <td>a family wedding reignites the ancient feud be...</td>\n",
       "    </tr>\n",
       "  </tbody>\n",
       "</table>\n",
       "</div>"
      ],
      "text/plain": [
       "   index    original_title  imdbId  tmdbId original_language  adult  \\\n",
       "0      0         Toy Story  114709     862                en  False   \n",
       "1      1           Jumanji  113497    8844                en  False   \n",
       "2      2  Grumpier Old Men  113228   15602                en  False   \n",
       "\n",
       "   popularity  vote_average  vote_count                        new_genres  \\\n",
       "0   21.946943           7.7      5415.0   'Animation', 'Comedy', 'Family'   \n",
       "1   17.015539           6.9      2413.0  'Adventure', 'Fantasy', 'Family'   \n",
       "2   11.712900           6.5        92.0               'Romance', 'Comedy'   \n",
       "\n",
       "                            new_production_companies  \\\n",
       "0                          'Pixar Animation Studios'   \n",
       "1  'TriStar Pictures', 'Teitler Film', 'Interscop...   \n",
       "2                   'Warner Bros.', 'Lancaster Gate'   \n",
       "\n",
       "     new_production_countries   new_spoken_languages  \\\n",
       "0  'United States of America'              'English'   \n",
       "1  'United States of America'  'English', 'Français'   \n",
       "2  'United States of America'              'English'   \n",
       "\n",
       "                                            new_cast  \\\n",
       "0  'Tom Hanks', 'Tim Allen', 'Don Rickles', 'Jim ...   \n",
       "1  'Robin Williams', 'Jonathan Hyde', 'Kirsten Du...   \n",
       "2  'Walter Matthau', 'Jack Lemmon', 'Ann-Margret'...   \n",
       "\n",
       "                                        new_keywords  \\\n",
       "0  'jealousy', 'toy', 'boy', 'friendship', 'frien...   \n",
       "1  'board game', 'disappearance', \"based on child...   \n",
       "2  'fishing', 'best friend', 'duringcreditsstinge...   \n",
       "\n",
       "                                             tagline  \\\n",
       "0                                                      \n",
       "1          Roll the dice and unleash the excitement!   \n",
       "2  Still Yelling. Still Fighting. Still Ready for...   \n",
       "\n",
       "                                            overview  \\\n",
       "0  Led by Woody, Andy's toys live happily in his ...   \n",
       "1  When siblings Judy and Peter discover an encha...   \n",
       "2  A family wedding reignites the ancient feud be...   \n",
       "\n",
       "                                        combine_text  \n",
       "0  led by woody, andy's toys live happily in his ...  \n",
       "1  when siblings judy and peter discover an encha...  \n",
       "2  a family wedding reignites the ancient feud be...  "
      ]
     },
     "metadata": {},
     "output_type": "display_data"
    },
    {
     "data": {
      "text/plain": [
       "(46910, 18)"
      ]
     },
     "execution_count": 5,
     "metadata": {},
     "output_type": "execute_result"
    }
   ],
   "source": [
    "display(df.head(3))\n",
    "df.shape"
   ]
  },
  {
   "cell_type": "markdown",
   "metadata": {},
   "source": [
    "# EDA"
   ]
  },
  {
   "cell_type": "code",
   "execution_count": 6,
   "metadata": {},
   "outputs": [
    {
     "data": {
      "image/png": "[encoded data removed]",
      "text/plain": [
       "<Figure size 432x288 with 1 Axes>"
      ]
     },
     "metadata": {
      "needs_background": "light"
     },
     "output_type": "display_data"
    }
   ],
   "source": [
    "df['original_language'].value_counts()[0:10].plot(kind='bar');\n",
    "df['adult'].value_counts()[0:10].plot(kind='bar');\n",
    "round(df['popularity']).astype('int').value_counts()[0:21].plot(kind='bar');\n",
    "#round(df['vote_average']).astype('int').value_counts().plot(kind='bar');"
   ]
  },
  {
   "cell_type": "code",
   "execution_count": 7,
   "metadata": {},
   "outputs": [
    {
     "data": {
      "text/plain": [
       "<matplotlib.axes._subplots.AxesSubplot at 0x1a2aae3390>"
      ]
     },
     "execution_count": 7,
     "metadata": {},
     "output_type": "execute_result"
    },
    {
     "data": {
      "image/png": "[encoded data removed]",
      "text/plain": [
       "<Figure size 432x288 with 1 Axes>"
      ]
     },
     "metadata": {
      "needs_background": "light"
     },
     "output_type": "display_data"
    }
   ],
   "source": [
    "round(df['vote_average']).astype('int').value_counts().sort_index().plot(kind='bar')"
   ]
  },
  {
   "cell_type": "code",
   "execution_count": 8,
   "metadata": {},
   "outputs": [
    {
     "data": {
      "image/png": "[encoded data removed]",
      "text/plain": [
       "<Figure size 432x288 with 1 Axes>"
      ]
     },
     "metadata": {
      "needs_background": "light"
     },
     "output_type": "display_data"
    }
   ],
   "source": [
    "df['new_genres'] = df['new_genres'].apply( lambda x: re.sub('[%s]'%re.escape(string.punctuation),'',x))\n",
    "df['new_genres'] = df['new_genres'].apply( lambda x: x.lower())\n",
    "genres = [text for text in df['new_genres']]\n",
    "genres = ' '.join(genres).split()\n",
    "count_genre = Counter(genres)\n",
    "top_genre = count_genre.most_common(20)\n",
    "pd.DataFrame(top_genre);\n",
    "genre_words = [word[0] for word in top_genre]\n",
    "genre_counts = [word[1] for word in top_genre]\n",
    "sns.barplot(x=genre_words, y=genre_counts)\n",
    "\n",
    "plt.xticks(rotation=30, ha='right')\n",
    "\n",
    "plt.show()"
   ]
  },
  {
   "cell_type": "code",
   "execution_count": 9,
   "metadata": {},
   "outputs": [
    {
     "data": {
      "image/png": "[encoded data removed]",
      "text/plain": [
       "<Figure size 432x288 with 1 Axes>"
      ]
     },
     "metadata": {
      "needs_background": "light"
     },
     "output_type": "display_data"
    }
   ],
   "source": [
    "\n",
    "production_companies = [text for text in df['new_production_companies']]\n",
    "#production_companies = ' '.join(production_companies).split()\n",
    "\n",
    "count_production_companies = Counter(production_companies)\n",
    "top_production_companies = count_production_companies.most_common(20)\n",
    "pd.DataFrame(top_production_companies);\n",
    "\n",
    "production_companies_words = [word[0] for word in top_production_companies]\n",
    "production_companies_counts = [word[1] for word in top_production_companies]\n",
    "\n",
    "sns.barplot(x=production_companies_words[1:11], y=production_companies_counts[1:11])\n",
    "\n",
    "plt.xticks(rotation=30, ha='right')\n",
    "\n",
    "plt.show()"
   ]
  },
  {
   "cell_type": "code",
   "execution_count": 10,
   "metadata": {},
   "outputs": [
    {
     "data": {
      "image/png": "[encoded data removed]",
      "text/plain": [
       "<Figure size 432x288 with 1 Axes>"
      ]
     },
     "metadata": {
      "needs_background": "light"
     },
     "output_type": "display_data"
    }
   ],
   "source": [
    "production_countries = [text for text in df['new_production_countries']]\n",
    "countries = [] \n",
    "\n",
    "for i in range (0,len(production_countries)):\n",
    "    x = production_countries[i].split(', ')\n",
    "    countries.append(x)\n",
    "\n",
    "countries = flatten(countries)   \n",
    "\n",
    "count_production_countries = Counter(countries)\n",
    "top_production_countries = count_production_countries.most_common(20)\n",
    "pd.DataFrame(top_production_countries);\n",
    "\n",
    "production_countries_words = [word[0] for word in top_production_countries]\n",
    "production_countries_counts = [word[1] for word in top_production_countries]\n",
    "\n",
    "sns.barplot(x=production_countries_words[0:11], y=production_countries_counts[0:11])\n",
    "\n",
    "plt.xticks(rotation=30, ha='right')\n",
    "\n",
    "plt.show()"
   ]
  },
  {
   "cell_type": "code",
   "execution_count": 11,
   "metadata": {},
   "outputs": [
    {
     "data": {
      "image/png": "[encoded data removed]",
      "text/plain": [
       "<Figure size 432x288 with 1 Axes>"
      ]
     },
     "metadata": {
      "needs_background": "light"
     },
     "output_type": "display_data"
    }
   ],
   "source": [
    "df['new_spoken_languages'] = df['new_spoken_languages'].apply( lambda x: re.sub('[%s]'%re.escape(string.punctuation),'',x))\n",
    "df['new_spoken_languages'] = df['new_spoken_languages'].apply( lambda x: x.lower())\n",
    "\n",
    "spoken_languages = [text for text in df['new_spoken_languages']]\n",
    "spoken_languages = ' '.join(spoken_languages).split()\n",
    "\n",
    "\n",
    "count_spoken_languages = Counter(spoken_languages)\n",
    "top_spoken_languages = count_spoken_languages.most_common(20)\n",
    "pd.DataFrame(top_spoken_languages);\n",
    "\n",
    "spoken_languages_words = [word[0] for word in top_spoken_languages]\n",
    "spoken_languages_counts = [word[1] for word in top_spoken_languages]\n",
    "\n",
    "sns.barplot(x=spoken_languages_words[0:10], y=spoken_languages_counts[0:10])\n",
    "\n",
    "plt.xticks(rotation=30, ha='right')\n",
    "\n",
    "plt.show()"
   ]
  },
  {
   "cell_type": "code",
   "execution_count": 12,
   "metadata": {},
   "outputs": [
    {
     "data": {
      "image/png": "[encoded data removed]",
      "text/plain": [
       "<Figure size 432x288 with 1 Axes>"
      ]
     },
     "metadata": {
      "needs_background": "light"
     },
     "output_type": "display_data"
    }
   ],
   "source": [
    "df['new_cast'] = df['new_cast'].apply( lambda x: x.lower())\n",
    "df['new_cast'] = df['new_cast'].apply( lambda x: re.sub(('\"\\\"'),' ',x))\n",
    "\n",
    "\n",
    "cast_member = [text for text in df['new_cast']]\n",
    "\n",
    "\n",
    "cast_list = [] \n",
    "\n",
    "for i in range (0,len(cast_member)):\n",
    "    x = cast_member[i].split(', ')\n",
    "    cast_list.append(x)\n",
    "\n",
    "\n",
    "cast_list = flatten(cast_list)   \n",
    "\n",
    "\n",
    "count_cast = Counter(cast_list)\n",
    "\n",
    " \n",
    "top_cast = count_cast.most_common(20)\n",
    "pd.DataFrame(top_cast);\n",
    "\n",
    "cast_words = [word[0] for word in top_cast]\n",
    "cast_counts = [word[1] for word in top_cast]\n",
    "\n",
    "sns.barplot(x=cast_words[1:11], y=cast_counts[1:11])\n",
    "\n",
    "plt.xticks(rotation=30, ha='right');\n"
   ]
  },
  {
   "cell_type": "code",
   "execution_count": 13,
   "metadata": {},
   "outputs": [
    {
     "data": {
      "image/png": "[encoded data removed]",
      "text/plain": [
       "<Figure size 432x288 with 1 Axes>"
      ]
     },
     "metadata": {
      "needs_background": "light"
     },
     "output_type": "display_data"
    }
   ],
   "source": [
    "df['new_keywords'] = df['new_keywords'].apply( lambda x: x.lower())\n",
    "keywords = [text for text in df['new_keywords']]\n",
    "\n",
    "words = [] \n",
    "\n",
    "for i in range (0,len(keywords)):\n",
    "    x = keywords[i].split(', ')\n",
    "    words.append(x)\n",
    "\n",
    "words = flatten(words)   \n",
    "count_keywords = Counter(words)\n",
    "\n",
    "top_keywords = count_keywords.most_common(20)\n",
    "pd.DataFrame(top_keywords);\n",
    "\n",
    "keywords_words = [word[0] for word in top_keywords]\n",
    "keywords_counts = [word[1] for word in top_keywords]\n",
    "\n",
    "sns.barplot(x=keywords_words[1:11], y=keywords_counts[1:11])\n",
    "\n",
    "plt.xticks(rotation=30, ha='right');\n"
   ]
  },
  {
   "cell_type": "code",
   "execution_count": null,
   "metadata": {},
   "outputs": [],
   "source": []
  },
  {
   "cell_type": "markdown",
   "metadata": {},
   "source": [
    "How do you calculate the rank of movies and TV shows on the Top Rated Movies and Top Rated TV Show lists?\n",
    "The following formula is used to calculate the Top Rated 250 titles. This formula provides a true 'Bayesian estimate', which takes into account the number of votes each title has received, minimum votes required to be on the list, and the mean vote for all titles:\n",
    "\n",
    "weighted rating (WR) = (v ÷ (v+m)) × R + (m ÷ (v+m)) × C\n",
    "\n",
    "Where:\n",
    "\n",
    "R = average for the movie (mean) = (rating)\n",
    "\n",
    "v = number of votes for the movie = (votes)\n",
    "\n",
    "m = minimum votes required to be listed in the Top Rated list (currently 25,000)\n",
    "\n",
    "C = the mean vote across the whole report\n",
    "\n",
    "Please be aware that the Top Rated Movies Chart only includes theatrical features: shorts, TV movies, miniseries and documentaries are not included in the Top Rated Movies Chart. The Top Rated TV Shows Chart includes TV Series, but not TV episodes or Movies.\n",
    "\n",
    "https://help.imdb.com/article/imdb/track-movies-tv/ratings-faq/G67Y87TFYYP6TWAV#"
   ]
  },
  {
   "cell_type": "code",
   "execution_count": 14,
   "metadata": {},
   "outputs": [
    {
     "data": {
      "text/plain": [
       "421.0"
      ]
     },
     "execution_count": 14,
     "metadata": {},
     "output_type": "execute_result"
    }
   ],
   "source": [
    "m = df['vote_count'].quantile(0.95)\n",
    "m"
   ]
  },
  {
   "cell_type": "code",
   "execution_count": 15,
   "metadata": {},
   "outputs": [
    {
     "data": {
      "text/plain": [
       "5.611644524925095"
      ]
     },
     "execution_count": 15,
     "metadata": {},
     "output_type": "execute_result"
    }
   ],
   "source": [
    "C = df['vote_average'].mean()\n",
    "C"
   ]
  },
  {
   "cell_type": "code",
   "execution_count": 16,
   "metadata": {},
   "outputs": [],
   "source": [
    "def weighted_rating(x):\n",
    "    v = x['vote_count']\n",
    "    R = x['vote_average']\n",
    "    return (v/(v+m) * R) + (m/(m+v) * C)"
   ]
  },
  {
   "cell_type": "code",
   "execution_count": 17,
   "metadata": {},
   "outputs": [],
   "source": [
    "df['weighted_rating'] = df.apply(weighted_rating, axis=1)"
   ]
  },
  {
   "cell_type": "code",
   "execution_count": 18,
   "metadata": {},
   "outputs": [
    {
     "data": {
      "text/html": [
       "<div>\n",
       "<style scoped>\n",
       "    .dataframe tbody tr th:only-of-type {\n",
       "        vertical-align: middle;\n",
       "    }\n",
       "\n",
       "    .dataframe tbody tr th {\n",
       "        vertical-align: top;\n",
       "    }\n",
       "\n",
       "    .dataframe thead th {\n",
       "        text-align: right;\n",
       "    }\n",
       "</style>\n",
       "<table border=\"1\" class=\"dataframe\">\n",
       "  <thead>\n",
       "    <tr style=\"text-align: right;\">\n",
       "      <th></th>\n",
       "      <th>index</th>\n",
       "      <th>original_title</th>\n",
       "      <th>imdbId</th>\n",
       "      <th>tmdbId</th>\n",
       "      <th>original_language</th>\n",
       "      <th>adult</th>\n",
       "      <th>popularity</th>\n",
       "      <th>vote_average</th>\n",
       "      <th>vote_count</th>\n",
       "      <th>new_genres</th>\n",
       "      <th>new_production_companies</th>\n",
       "      <th>new_production_countries</th>\n",
       "      <th>new_spoken_languages</th>\n",
       "      <th>new_cast</th>\n",
       "      <th>new_keywords</th>\n",
       "      <th>tagline</th>\n",
       "      <th>overview</th>\n",
       "      <th>combine_text</th>\n",
       "      <th>weighted_rating</th>\n",
       "    </tr>\n",
       "  </thead>\n",
       "  <tbody>\n",
       "    <tr>\n",
       "      <td>314</td>\n",
       "      <td>314</td>\n",
       "      <td>The Shawshank Redemption</td>\n",
       "      <td>111161</td>\n",
       "      <td>278</td>\n",
       "      <td>en</td>\n",
       "      <td>False</td>\n",
       "      <td>51.645403</td>\n",
       "      <td>8.5</td>\n",
       "      <td>8358.0</td>\n",
       "      <td>drama crime</td>\n",
       "      <td>'Castle Rock Entertainment', 'Warner Bros.'</td>\n",
       "      <td>'United States of America'</td>\n",
       "      <td>english</td>\n",
       "      <td>'tim robbins', 'morgan freeman', 'bob gunton',...</td>\n",
       "      <td>'prison', 'corruption', 'police brutality', 'p...</td>\n",
       "      <td>Fear can hold you prisoner. Hope can set you f...</td>\n",
       "      <td>Framed in the 1940s for the double murder of h...</td>\n",
       "      <td>framed in the 1940s for the double murder of h...</td>\n",
       "      <td>8.361488</td>\n",
       "    </tr>\n",
       "    <tr>\n",
       "      <td>849</td>\n",
       "      <td>849</td>\n",
       "      <td>The Godfather</td>\n",
       "      <td>68646</td>\n",
       "      <td>238</td>\n",
       "      <td>en</td>\n",
       "      <td>False</td>\n",
       "      <td>41.109264</td>\n",
       "      <td>8.5</td>\n",
       "      <td>6024.0</td>\n",
       "      <td>drama crime</td>\n",
       "      <td>'Paramount Pictures', 'Alfran Productions'</td>\n",
       "      <td>'United States of America'</td>\n",
       "      <td>english italiano latin</td>\n",
       "      <td>'marlon brando', 'al pacino', 'james caan', 'r...</td>\n",
       "      <td>'italy', 'love at first sight', 'loss of fathe...</td>\n",
       "      <td>An offer you can't refuse.</td>\n",
       "      <td>Spanning the years 1945 to 1955, a chronicle o...</td>\n",
       "      <td>spanning the years 1945 to 1955, a chronicle o...</td>\n",
       "      <td>8.311327</td>\n",
       "    </tr>\n",
       "    <tr>\n",
       "      <td>12717</td>\n",
       "      <td>12717</td>\n",
       "      <td>The Dark Knight</td>\n",
       "      <td>468569</td>\n",
       "      <td>155</td>\n",
       "      <td>en</td>\n",
       "      <td>False</td>\n",
       "      <td>123.167259</td>\n",
       "      <td>8.3</td>\n",
       "      <td>12269.0</td>\n",
       "      <td>drama action crime thriller</td>\n",
       "      <td>'DC Comics', 'Legendary Pictures', 'Warner Bro...</td>\n",
       "      <td>'United Kingdom', 'United States of America'</td>\n",
       "      <td>english 普通话</td>\n",
       "      <td>'christian bale', 'michael caine', 'heath ledg...</td>\n",
       "      <td>'dc comics', 'crime fighter', 'secret identity...</td>\n",
       "      <td>Why So Serious?</td>\n",
       "      <td>Batman raises the stakes in his war on crime. ...</td>\n",
       "      <td>batman raises the stakes in his war on crime. ...</td>\n",
       "      <td>8.210812</td>\n",
       "    </tr>\n",
       "    <tr>\n",
       "      <td>2902</td>\n",
       "      <td>2902</td>\n",
       "      <td>Fight Club</td>\n",
       "      <td>137523</td>\n",
       "      <td>550</td>\n",
       "      <td>en</td>\n",
       "      <td>False</td>\n",
       "      <td>63.869599</td>\n",
       "      <td>8.3</td>\n",
       "      <td>9678.0</td>\n",
       "      <td>drama</td>\n",
       "      <td>'Twentieth Century Fox Film Corporation', 'Reg...</td>\n",
       "      <td>'Germany', 'United States of America'</td>\n",
       "      <td>english</td>\n",
       "      <td>'edward norton', 'brad pitt', 'meat loaf', 'ja...</td>\n",
       "      <td>'support group', 'dual identity', 'nihilism', ...</td>\n",
       "      <td>Mischief. Mayhem. Soap.</td>\n",
       "      <td>A ticking-time-bomb insomniac and a slippery s...</td>\n",
       "      <td>a ticking-time-bomb insomniac and a slippery s...</td>\n",
       "      <td>8.187930</td>\n",
       "    </tr>\n",
       "    <tr>\n",
       "      <td>292</td>\n",
       "      <td>292</td>\n",
       "      <td>Pulp Fiction</td>\n",
       "      <td>110912</td>\n",
       "      <td>680</td>\n",
       "      <td>en</td>\n",
       "      <td>False</td>\n",
       "      <td>140.950236</td>\n",
       "      <td>8.3</td>\n",
       "      <td>8670.0</td>\n",
       "      <td>thriller crime</td>\n",
       "      <td>'Miramax Films', 'A Band Apart', 'Jersey Films'</td>\n",
       "      <td>'United States of America'</td>\n",
       "      <td>english español français</td>\n",
       "      <td>'john travolta', 'samuel l. jackson', 'uma thu...</td>\n",
       "      <td>'transporter', 'brothel', 'drug dealer', 'boxe...</td>\n",
       "      <td>Just because you are a character doesn't mean ...</td>\n",
       "      <td>A burger-loving hit man, his philosophical par...</td>\n",
       "      <td>a burger-loving hit man, his philosophical par...</td>\n",
       "      <td>8.175504</td>\n",
       "    </tr>\n",
       "    <tr>\n",
       "      <td>351</td>\n",
       "      <td>351</td>\n",
       "      <td>Forrest Gump</td>\n",
       "      <td>109830</td>\n",
       "      <td>13</td>\n",
       "      <td>en</td>\n",
       "      <td>False</td>\n",
       "      <td>48.307194</td>\n",
       "      <td>8.2</td>\n",
       "      <td>8147.0</td>\n",
       "      <td>comedy drama romance</td>\n",
       "      <td>'Paramount Pictures'</td>\n",
       "      <td>'United States of America'</td>\n",
       "      <td>english</td>\n",
       "      <td>'tom hanks', 'robin wright', 'gary sinise', 'm...</td>\n",
       "      <td>'vietnam veteran', 'hippie', 'mentally disable...</td>\n",
       "      <td>The world will never be the same, once you've ...</td>\n",
       "      <td>A man with a low IQ has accomplished great thi...</td>\n",
       "      <td>a man with a low iq has accomplished great thi...</td>\n",
       "      <td>8.072818</td>\n",
       "    </tr>\n",
       "    <tr>\n",
       "      <td>522</td>\n",
       "      <td>522</td>\n",
       "      <td>Schindler's List</td>\n",
       "      <td>108052</td>\n",
       "      <td>424</td>\n",
       "      <td>en</td>\n",
       "      <td>False</td>\n",
       "      <td>41.725123</td>\n",
       "      <td>8.3</td>\n",
       "      <td>4436.0</td>\n",
       "      <td>drama history war</td>\n",
       "      <td>'Universal Pictures', 'Amblin Entertainment'</td>\n",
       "      <td>'United States of America'</td>\n",
       "      <td>deutsch polski עִבְרִית english</td>\n",
       "      <td>'liam neeson', 'ben kingsley', 'ralph fiennes'...</td>\n",
       "      <td>'factory', 'concentration camp', 'hero', 'holo...</td>\n",
       "      <td>Whoever saves one life, saves the world entire.</td>\n",
       "      <td>The true story of how businessman Oskar Schind...</td>\n",
       "      <td>the true story of how businessman oskar schind...</td>\n",
       "      <td>8.066976</td>\n",
       "    </tr>\n",
       "    <tr>\n",
       "      <td>24134</td>\n",
       "      <td>24134</td>\n",
       "      <td>Whiplash</td>\n",
       "      <td>2582802</td>\n",
       "      <td>244786</td>\n",
       "      <td>en</td>\n",
       "      <td>False</td>\n",
       "      <td>64.299990</td>\n",
       "      <td>8.3</td>\n",
       "      <td>4376.0</td>\n",
       "      <td>drama</td>\n",
       "      <td>'Bold Films', 'Blumhouse Productions', 'Right ...</td>\n",
       "      <td>'United States of America'</td>\n",
       "      <td>english</td>\n",
       "      <td>'miles teller', 'j.k. simmons', 'melissa benoi...</td>\n",
       "      <td>'jazz', 'obsession', 'conservatory', 'music te...</td>\n",
       "      <td>The road to greatness can take you to the edge.</td>\n",
       "      <td>Under the direction of a ruthless instructor, ...</td>\n",
       "      <td>under the direction of a ruthless instructor, ...</td>\n",
       "      <td>8.064061</td>\n",
       "    </tr>\n",
       "    <tr>\n",
       "      <td>5585</td>\n",
       "      <td>5585</td>\n",
       "      <td>千と千尋の神隠し</td>\n",
       "      <td>245429</td>\n",
       "      <td>129</td>\n",
       "      <td>ja</td>\n",
       "      <td>False</td>\n",
       "      <td>41.048867</td>\n",
       "      <td>8.3</td>\n",
       "      <td>3968.0</td>\n",
       "      <td>fantasy adventure animation family</td>\n",
       "      <td>'Studio Ghibli'</td>\n",
       "      <td>'Japan'</td>\n",
       "      <td>日本語</td>\n",
       "      <td>'rumi hiiragi', 'miyu irino', 'mari natsuki', ...</td>\n",
       "      <td>'witch', 'parent child relationship', 'magic',...</td>\n",
       "      <td>The tunnel led Chihiro to a mysterious town...</td>\n",
       "      <td>A ten year old girl who wanders away from her ...</td>\n",
       "      <td>a ten year old girl who wanders away from her ...</td>\n",
       "      <td>8.042129</td>\n",
       "    </tr>\n",
       "    <tr>\n",
       "      <td>1199</td>\n",
       "      <td>1199</td>\n",
       "      <td>The Empire Strikes Back</td>\n",
       "      <td>80684</td>\n",
       "      <td>1891</td>\n",
       "      <td>en</td>\n",
       "      <td>False</td>\n",
       "      <td>19.470959</td>\n",
       "      <td>8.2</td>\n",
       "      <td>5998.0</td>\n",
       "      <td>adventure action science fiction</td>\n",
       "      <td>'Lucasfilm', 'Twentieth Century Fox Film Corpo...</td>\n",
       "      <td>'United States of America'</td>\n",
       "      <td>english</td>\n",
       "      <td>'mark hamill', 'harrison ford', 'carrie fisher...</td>\n",
       "      <td>'rebel', 'android', 'asteroid', 'space battle'...</td>\n",
       "      <td>The Adventure Continues...</td>\n",
       "      <td>The epic saga continues as Luke Skywalker, in ...</td>\n",
       "      <td>the epic saga continues as luke skywalker, in ...</td>\n",
       "      <td>8.030239</td>\n",
       "    </tr>\n",
       "  </tbody>\n",
       "</table>\n",
       "</div>"
      ],
      "text/plain": [
       "       index            original_title   imdbId  tmdbId original_language  \\\n",
       "314      314  The Shawshank Redemption   111161     278                en   \n",
       "849      849             The Godfather    68646     238                en   \n",
       "12717  12717           The Dark Knight   468569     155                en   \n",
       "2902    2902                Fight Club   137523     550                en   \n",
       "292      292              Pulp Fiction   110912     680                en   \n",
       "351      351              Forrest Gump   109830      13                en   \n",
       "522      522          Schindler's List   108052     424                en   \n",
       "24134  24134                  Whiplash  2582802  244786                en   \n",
       "5585    5585                  千と千尋の神隠し   245429     129                ja   \n",
       "1199    1199   The Empire Strikes Back    80684    1891                en   \n",
       "\n",
       "       adult  popularity  vote_average  vote_count  \\\n",
       "314    False   51.645403           8.5      8358.0   \n",
       "849    False   41.109264           8.5      6024.0   \n",
       "12717  False  123.167259           8.3     12269.0   \n",
       "2902   False   63.869599           8.3      9678.0   \n",
       "292    False  140.950236           8.3      8670.0   \n",
       "351    False   48.307194           8.2      8147.0   \n",
       "522    False   41.725123           8.3      4436.0   \n",
       "24134  False   64.299990           8.3      4376.0   \n",
       "5585   False   41.048867           8.3      3968.0   \n",
       "1199   False   19.470959           8.2      5998.0   \n",
       "\n",
       "                               new_genres  \\\n",
       "314                           drama crime   \n",
       "849                           drama crime   \n",
       "12717         drama action crime thriller   \n",
       "2902                                drama   \n",
       "292                        thriller crime   \n",
       "351                  comedy drama romance   \n",
       "522                     drama history war   \n",
       "24134                               drama   \n",
       "5585   fantasy adventure animation family   \n",
       "1199     adventure action science fiction   \n",
       "\n",
       "                                new_production_companies  \\\n",
       "314          'Castle Rock Entertainment', 'Warner Bros.'   \n",
       "849           'Paramount Pictures', 'Alfran Productions'   \n",
       "12717  'DC Comics', 'Legendary Pictures', 'Warner Bro...   \n",
       "2902   'Twentieth Century Fox Film Corporation', 'Reg...   \n",
       "292      'Miramax Films', 'A Band Apart', 'Jersey Films'   \n",
       "351                                 'Paramount Pictures'   \n",
       "522         'Universal Pictures', 'Amblin Entertainment'   \n",
       "24134  'Bold Films', 'Blumhouse Productions', 'Right ...   \n",
       "5585                                     'Studio Ghibli'   \n",
       "1199   'Lucasfilm', 'Twentieth Century Fox Film Corpo...   \n",
       "\n",
       "                           new_production_countries  \\\n",
       "314                      'United States of America'   \n",
       "849                      'United States of America'   \n",
       "12717  'United Kingdom', 'United States of America'   \n",
       "2902          'Germany', 'United States of America'   \n",
       "292                      'United States of America'   \n",
       "351                      'United States of America'   \n",
       "522                      'United States of America'   \n",
       "24134                    'United States of America'   \n",
       "5585                                        'Japan'   \n",
       "1199                     'United States of America'   \n",
       "\n",
       "                  new_spoken_languages  \\\n",
       "314                            english   \n",
       "849             english italiano latin   \n",
       "12717                      english 普通话   \n",
       "2902                           english   \n",
       "292           english español français   \n",
       "351                            english   \n",
       "522    deutsch polski עִבְרִית english   \n",
       "24134                          english   \n",
       "5585                               日本語   \n",
       "1199                           english   \n",
       "\n",
       "                                                new_cast  \\\n",
       "314    'tim robbins', 'morgan freeman', 'bob gunton',...   \n",
       "849    'marlon brando', 'al pacino', 'james caan', 'r...   \n",
       "12717  'christian bale', 'michael caine', 'heath ledg...   \n",
       "2902   'edward norton', 'brad pitt', 'meat loaf', 'ja...   \n",
       "292    'john travolta', 'samuel l. jackson', 'uma thu...   \n",
       "351    'tom hanks', 'robin wright', 'gary sinise', 'm...   \n",
       "522    'liam neeson', 'ben kingsley', 'ralph fiennes'...   \n",
       "24134  'miles teller', 'j.k. simmons', 'melissa benoi...   \n",
       "5585   'rumi hiiragi', 'miyu irino', 'mari natsuki', ...   \n",
       "1199   'mark hamill', 'harrison ford', 'carrie fisher...   \n",
       "\n",
       "                                            new_keywords  \\\n",
       "314    'prison', 'corruption', 'police brutality', 'p...   \n",
       "849    'italy', 'love at first sight', 'loss of fathe...   \n",
       "12717  'dc comics', 'crime fighter', 'secret identity...   \n",
       "2902   'support group', 'dual identity', 'nihilism', ...   \n",
       "292    'transporter', 'brothel', 'drug dealer', 'boxe...   \n",
       "351    'vietnam veteran', 'hippie', 'mentally disable...   \n",
       "522    'factory', 'concentration camp', 'hero', 'holo...   \n",
       "24134  'jazz', 'obsession', 'conservatory', 'music te...   \n",
       "5585   'witch', 'parent child relationship', 'magic',...   \n",
       "1199   'rebel', 'android', 'asteroid', 'space battle'...   \n",
       "\n",
       "                                                 tagline  \\\n",
       "314    Fear can hold you prisoner. Hope can set you f...   \n",
       "849                           An offer you can't refuse.   \n",
       "12717                                    Why So Serious?   \n",
       "2902                             Mischief. Mayhem. Soap.   \n",
       "292    Just because you are a character doesn't mean ...   \n",
       "351    The world will never be the same, once you've ...   \n",
       "522      Whoever saves one life, saves the world entire.   \n",
       "24134    The road to greatness can take you to the edge.   \n",
       "5585      The tunnel led Chihiro to a mysterious town...   \n",
       "1199                          The Adventure Continues...   \n",
       "\n",
       "                                                overview  \\\n",
       "314    Framed in the 1940s for the double murder of h...   \n",
       "849    Spanning the years 1945 to 1955, a chronicle o...   \n",
       "12717  Batman raises the stakes in his war on crime. ...   \n",
       "2902   A ticking-time-bomb insomniac and a slippery s...   \n",
       "292    A burger-loving hit man, his philosophical par...   \n",
       "351    A man with a low IQ has accomplished great thi...   \n",
       "522    The true story of how businessman Oskar Schind...   \n",
       "24134  Under the direction of a ruthless instructor, ...   \n",
       "5585   A ten year old girl who wanders away from her ...   \n",
       "1199   The epic saga continues as Luke Skywalker, in ...   \n",
       "\n",
       "                                            combine_text  weighted_rating  \n",
       "314    framed in the 1940s for the double murder of h...         8.361488  \n",
       "849    spanning the years 1945 to 1955, a chronicle o...         8.311327  \n",
       "12717  batman raises the stakes in his war on crime. ...         8.210812  \n",
       "2902   a ticking-time-bomb insomniac and a slippery s...         8.187930  \n",
       "292    a burger-loving hit man, his philosophical par...         8.175504  \n",
       "351    a man with a low iq has accomplished great thi...         8.072818  \n",
       "522    the true story of how businessman oskar schind...         8.066976  \n",
       "24134  under the direction of a ruthless instructor, ...         8.064061  \n",
       "5585   a ten year old girl who wanders away from her ...         8.042129  \n",
       "1199   the epic saga continues as luke skywalker, in ...         8.030239  "
      ]
     },
     "execution_count": 18,
     "metadata": {},
     "output_type": "execute_result"
    }
   ],
   "source": [
    "df.sort_values(by = ['weighted_rating'],ascending=False).head(10)"
   ]
  },
  {
   "cell_type": "markdown",
   "metadata": {},
   "source": [
    "# Recommendation_Engine"
   ]
  },
  {
   "cell_type": "code",
   "execution_count": 19,
   "metadata": {},
   "outputs": [],
   "source": [
    "count_matrix = CountVectorizer().fit_transform(df['combine_text'])"
   ]
  },
  {
   "cell_type": "code",
   "execution_count": 20,
   "metadata": {},
   "outputs": [],
   "source": [
    "cosine_sm = cosine_similarity(count_matrix)"
   ]
  },
  {
   "cell_type": "code",
   "execution_count": 21,
   "metadata": {},
   "outputs": [
    {
     "name": "stdout",
     "output_type": "stream",
     "text": [
      "[[1.         0.16485188 0.21282286 ... 0.14783528 0.26041025 0.25624782]\n",
      " [0.16485188 1.         0.18143706 ... 0.14833167 0.25499704 0.24431098]\n",
      " [0.21282286 0.18143706 1.         ... 0.1013799  0.39233396 0.38299072]\n",
      " ...\n",
      " [0.14783528 0.14833167 0.1013799  ... 1.         0.08457855 0.16901408]\n",
      " [0.26041025 0.25499704 0.39233396 ... 0.08457855 1.         0.57513412]\n",
      " [0.25624782 0.24431098 0.38299072 ... 0.16901408 0.57513412 1.        ]]\n"
     ]
    }
   ],
   "source": [
    "print(cosine_sm)"
   ]
  },
  {
   "cell_type": "code",
   "execution_count": 22,
   "metadata": {},
   "outputs": [
    {
     "data": {
      "text/plain": [
       "(46910, 46910)"
      ]
     },
     "execution_count": 22,
     "metadata": {},
     "output_type": "execute_result"
    }
   ],
   "source": [
    "cosine_sm.shape"
   ]
  },
  {
   "cell_type": "code",
   "execution_count": null,
   "metadata": {},
   "outputs": [],
   "source": []
  },
  {
   "cell_type": "code",
   "execution_count": 23,
   "metadata": {},
   "outputs": [],
   "source": [
    "def get_title_from_index(index):\n",
    "    return df[df.index == index]['original_title'].values[0]\n",
    "\n",
    "def get_index_from_title(title):\n",
    "    return df[df.original_title == title]['index'].values[0]"
   ]
  },
  {
   "cell_type": "code",
   "execution_count": 24,
   "metadata": {},
   "outputs": [
    {
     "name": "stdout",
     "output_type": "stream",
     "text": [
      "0\n"
     ]
    }
   ],
   "source": [
    "movie_user_likes = 'Toy Story'\n",
    "\n",
    "movie_index = get_index_from_title(movie_user_likes)\n",
    "print(movie_index)"
   ]
  },
  {
   "cell_type": "code",
   "execution_count": 25,
   "metadata": {},
   "outputs": [],
   "source": [
    "similar_movies = list(enumerate(cosine_sm[movie_index]))"
   ]
  },
  {
   "cell_type": "code",
   "execution_count": 26,
   "metadata": {},
   "outputs": [
    {
     "data": {
      "text/plain": [
       "[(1, 0.16485187793561917),\n",
       " (2, 0.212822859278557),\n",
       " (3, 0.19795189561622395),\n",
       " (4, 0.19113629903539223),\n",
       " (5, 0.12233754573222991),\n",
       " (6, 0.09302954520619311),\n",
       " (7, 0.2491364395612199),\n",
       " (8, 0.1651685910387792),\n",
       " (9, 0.1754656015858991)]"
      ]
     },
     "execution_count": 26,
     "metadata": {},
     "output_type": "execute_result"
    }
   ],
   "source": [
    "similar_movies[1:10]"
   ]
  },
  {
   "cell_type": "code",
   "execution_count": 27,
   "metadata": {},
   "outputs": [],
   "source": [
    "sorted_similar_movies = sorted(similar_movies, key = lambda x: x[1], reverse = True)[1:10]"
   ]
  },
  {
   "cell_type": "code",
   "execution_count": 28,
   "metadata": {},
   "outputs": [
    {
     "data": {
      "text/plain": [
       "[(3056, 0.5550906593973836),\n",
       " (15745, 0.4850583336112524),\n",
       " (26275, 0.41108939946131423),\n",
       " (24999, 0.3898927605111518),\n",
       " (23194, 0.38701462788131846),\n",
       " (26273, 0.3802108336180528),\n",
       " (22392, 0.3729349269914458),\n",
       " (2038, 0.35763065657235854),\n",
       " (23131, 0.3527909248536153)]"
      ]
     },
     "execution_count": 28,
     "metadata": {},
     "output_type": "execute_result"
    }
   ],
   "source": [
    "sorted_similar_movies"
   ]
  },
  {
   "cell_type": "code",
   "execution_count": 29,
   "metadata": {},
   "outputs": [
    {
     "name": "stdout",
     "output_type": "stream",
     "text": [
      "Toy Story\n",
      "Toy Story 2 0.5550906593973836\n",
      "Toy Story 3 0.4850583336112524\n",
      "Toy Story That Time Forgot 0.41108939946131423\n",
      "Small Fry 0.3898927605111518\n",
      "La luna 0.38701462788131846\n"
     ]
    }
   ],
   "source": [
    "i = 0 \n",
    "print(movie_user_likes)\n",
    "for element in sorted_similar_movies:\n",
    "    print(get_title_from_index(element[0]),sorted_similar_movies[i][1])\n",
    "    i = i + 1\n",
    "    if i == 5:\n",
    "        break"
   ]
  }
 ],
 "metadata": {
  "kernelspec": {
   "display_name": "Python 3",
   "language": "python",
   "name": "python3"
  },
  "language_info": {
   "codemirror_mode": {
    "name": "ipython",
    "version": 3
   },
   "file_extension": ".py",
   "mimetype": "text/x-python",
   "name": "python",
   "nbconvert_exporter": "python",
   "pygments_lexer": "ipython3",
   "version": "3.7.4"
  }
 },
 "nbformat": 4,
 "nbformat_minor": 2
}
