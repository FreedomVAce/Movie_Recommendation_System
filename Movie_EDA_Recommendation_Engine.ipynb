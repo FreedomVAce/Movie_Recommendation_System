{
 "cells": [
  {
   "cell_type": "code",
   "execution_count": 1,
   "metadata": {},
   "outputs": [],
   "source": [
    "import re\n",
    "import string\n",
    "import pandas as pd \n",
    "import numpy as np\n",
    "import matplotlib.pyplot as plt\n",
    "import seaborn as sns\n",
    "%matplotlib inline\n",
    "\n",
    "from collections import Counter\n",
    "from sklearn.feature_extraction.text import CountVectorizer\n",
    "from sklearn.metrics.pairwise import cosine_similarity"
   ]
  },
  {
   "cell_type": "code",
   "execution_count": 2,
   "metadata": {},
   "outputs": [],
   "source": [
    "df = pd.read_csv('df.csv')\n",
    "df = df.rename(columns={'Unnamed: 0':'index'})\n",
    "df = df.fillna('')"
   ]
  },
  {
   "cell_type": "code",
   "execution_count": 3,
   "metadata": {},
   "outputs": [
    {
     "data": {
      "text/plain": [
       "Index(['index', 'adult', 'original_language', 'original_title', 'overview',\n",
       "       'popularity', 'tagline', 'vote_average', 'vote_count', 'imdbId',\n",
       "       'tmdbId', 'new_genres', 'new_production_companies',\n",
       "       'new_production_countries', 'new_spoken_languages', 'new_keywords',\n",
       "       'new_cast', 'combine_text'],\n",
       "      dtype='object')"
      ]
     },
     "execution_count": 3,
     "metadata": {},
     "output_type": "execute_result"
    }
   ],
   "source": [
    "df.columns"
   ]
  },
  {
   "cell_type": "code",
   "execution_count": 4,
   "metadata": {},
   "outputs": [],
   "source": [
    "df = df[['index','original_title','imdbId','tmdbId','original_language','adult','popularity',\n",
    "         'vote_average','vote_count','new_genres','new_production_companies','new_production_countries',\n",
    "         'new_spoken_languages','new_cast','new_keywords','tagline','overview','combine_text']]"
   ]
  },
  {
   "cell_type": "code",
   "execution_count": 5,
   "metadata": {},
   "outputs": [
    {
     "data": {
      "text/html": [
       "<div>\n",
       "<style scoped>\n",
       "    .dataframe tbody tr th:only-of-type {\n",
       "        vertical-align: middle;\n",
       "    }\n",
       "\n",
       "    .dataframe tbody tr th {\n",
       "        vertical-align: top;\n",
       "    }\n",
       "\n",
       "    .dataframe thead th {\n",
       "        text-align: right;\n",
       "    }\n",
       "</style>\n",
       "<table border=\"1\" class=\"dataframe\">\n",
       "  <thead>\n",
       "    <tr style=\"text-align: right;\">\n",
       "      <th></th>\n",
       "      <th>index</th>\n",
       "      <th>original_title</th>\n",
       "      <th>imdbId</th>\n",
       "      <th>tmdbId</th>\n",
       "      <th>original_language</th>\n",
       "      <th>adult</th>\n",
       "      <th>popularity</th>\n",
       "      <th>vote_average</th>\n",
       "      <th>vote_count</th>\n",
       "      <th>new_genres</th>\n",
       "      <th>new_production_companies</th>\n",
       "      <th>new_production_countries</th>\n",
       "      <th>new_spoken_languages</th>\n",
       "      <th>new_cast</th>\n",
       "      <th>new_keywords</th>\n",
       "      <th>tagline</th>\n",
       "      <th>overview</th>\n",
       "      <th>combine_text</th>\n",
       "    </tr>\n",
       "  </thead>\n",
       "  <tbody>\n",
       "    <tr>\n",
       "      <td>0</td>\n",
       "      <td>0</td>\n",
       "      <td>Toy Story</td>\n",
       "      <td>114709</td>\n",
       "      <td>862</td>\n",
       "      <td>en</td>\n",
       "      <td>False</td>\n",
       "      <td>21.946943</td>\n",
       "      <td>7.7</td>\n",
       "      <td>5415.0</td>\n",
       "      <td>'Animation', 'Comedy', 'Family'</td>\n",
       "      <td>'Pixar Animation Studios'</td>\n",
       "      <td>'United States of America'</td>\n",
       "      <td>'English'</td>\n",
       "      <td>'Tom Hanks', 'Tim Allen', 'Don Rickles', 'Jim ...</td>\n",
       "      <td>'jealousy', 'toy', 'boy', 'friendship', 'frien...</td>\n",
       "      <td></td>\n",
       "      <td>Led by Woody, Andy's toys live happily in his ...</td>\n",
       "      <td>led by woody, andy's toys live happily in his ...</td>\n",
       "    </tr>\n",
       "    <tr>\n",
       "      <td>1</td>\n",
       "      <td>1</td>\n",
       "      <td>Jumanji</td>\n",
       "      <td>113497</td>\n",
       "      <td>8844</td>\n",
       "      <td>en</td>\n",
       "      <td>False</td>\n",
       "      <td>17.015539</td>\n",
       "      <td>6.9</td>\n",
       "      <td>2413.0</td>\n",
       "      <td>'Adventure', 'Fantasy', 'Family'</td>\n",
       "      <td>'TriStar Pictures', 'Teitler Film', 'Interscop...</td>\n",
       "      <td>'United States of America'</td>\n",
       "      <td>'English', 'Français'</td>\n",
       "      <td>'Robin Williams', 'Jonathan Hyde', 'Kirsten Du...</td>\n",
       "      <td>'board game', 'disappearance', \"based on child...</td>\n",
       "      <td>Roll the dice and unleash the excitement!</td>\n",
       "      <td>When siblings Judy and Peter discover an encha...</td>\n",
       "      <td>when siblings judy and peter discover an encha...</td>\n",
       "    </tr>\n",
       "    <tr>\n",
       "      <td>2</td>\n",
       "      <td>2</td>\n",
       "      <td>Grumpier Old Men</td>\n",
       "      <td>113228</td>\n",
       "      <td>15602</td>\n",
       "      <td>en</td>\n",
       "      <td>False</td>\n",
       "      <td>11.712900</td>\n",
       "      <td>6.5</td>\n",
       "      <td>92.0</td>\n",
       "      <td>'Romance', 'Comedy'</td>\n",
       "      <td>'Warner Bros.', 'Lancaster Gate'</td>\n",
       "      <td>'United States of America'</td>\n",
       "      <td>'English'</td>\n",
       "      <td>'Walter Matthau', 'Jack Lemmon', 'Ann-Margret'...</td>\n",
       "      <td>'fishing', 'best friend', 'duringcreditsstinge...</td>\n",
       "      <td>Still Yelling. Still Fighting. Still Ready for...</td>\n",
       "      <td>A family wedding reignites the ancient feud be...</td>\n",
       "      <td>a family wedding reignites the ancient feud be...</td>\n",
       "    </tr>\n",
       "  </tbody>\n",
       "</table>\n",
       "</div>"
      ],
      "text/plain": [
       "   index    original_title  imdbId  tmdbId original_language  adult  \\\n",
       "0      0         Toy Story  114709     862                en  False   \n",
       "1      1           Jumanji  113497    8844                en  False   \n",
       "2      2  Grumpier Old Men  113228   15602                en  False   \n",
       "\n",
       "   popularity  vote_average  vote_count                        new_genres  \\\n",
       "0   21.946943           7.7      5415.0   'Animation', 'Comedy', 'Family'   \n",
       "1   17.015539           6.9      2413.0  'Adventure', 'Fantasy', 'Family'   \n",
       "2   11.712900           6.5        92.0               'Romance', 'Comedy'   \n",
       "\n",
       "                            new_production_companies  \\\n",
       "0                          'Pixar Animation Studios'   \n",
       "1  'TriStar Pictures', 'Teitler Film', 'Interscop...   \n",
       "2                   'Warner Bros.', 'Lancaster Gate'   \n",
       "\n",
       "     new_production_countries   new_spoken_languages  \\\n",
       "0  'United States of America'              'English'   \n",
       "1  'United States of America'  'English', 'Français'   \n",
       "2  'United States of America'              'English'   \n",
       "\n",
       "                                            new_cast  \\\n",
       "0  'Tom Hanks', 'Tim Allen', 'Don Rickles', 'Jim ...   \n",
       "1  'Robin Williams', 'Jonathan Hyde', 'Kirsten Du...   \n",
       "2  'Walter Matthau', 'Jack Lemmon', 'Ann-Margret'...   \n",
       "\n",
       "                                        new_keywords  \\\n",
       "0  'jealousy', 'toy', 'boy', 'friendship', 'frien...   \n",
       "1  'board game', 'disappearance', \"based on child...   \n",
       "2  'fishing', 'best friend', 'duringcreditsstinge...   \n",
       "\n",
       "                                             tagline  \\\n",
       "0                                                      \n",
       "1          Roll the dice and unleash the excitement!   \n",
       "2  Still Yelling. Still Fighting. Still Ready for...   \n",
       "\n",
       "                                            overview  \\\n",
       "0  Led by Woody, Andy's toys live happily in his ...   \n",
       "1  When siblings Judy and Peter discover an encha...   \n",
       "2  A family wedding reignites the ancient feud be...   \n",
       "\n",
       "                                        combine_text  \n",
       "0  led by woody, andy's toys live happily in his ...  \n",
       "1  when siblings judy and peter discover an encha...  \n",
       "2  a family wedding reignites the ancient feud be...  "
      ]
     },
     "metadata": {},
     "output_type": "display_data"
    },
    {
     "data": {
      "text/plain": [
       "(46910, 18)"
      ]
     },
     "execution_count": 5,
     "metadata": {},
     "output_type": "execute_result"
    }
   ],
   "source": [
    "display(df.head(3))\n",
    "df.shape"
   ]
  },
  {
   "cell_type": "markdown",
   "metadata": {},
   "source": [
    "# EDA"
   ]
  },
  {
   "cell_type": "code",
   "execution_count": 6,
   "metadata": {},
   "outputs": [
    {
     "data": {
      "image/png": "[encoded data removed]",
      "text/plain": [
       "<Figure size 432x288 with 1 Axes>"
      ]
     },
     "metadata": {
      "needs_background": "light"
     },
     "output_type": "display_data"
    }
   ],
   "source": [
    "df['original_language'].value_counts()[0:10].plot(kind='bar');\n",
    "df['adult'].value_counts()[0:10].plot(kind='bar');\n",
    "round(df['popularity']).astype('int').value_counts()[0:21].plot(kind='bar');\n",
    "#round(df['vote_average']).astype('int').value_counts().plot(kind='bar');"
   ]
  },
  {
   "cell_type": "code",
   "execution_count": 7,
   "metadata": {},
   "outputs": [
    {
     "data": {
      "text/plain": [
       "<matplotlib.axes._subplots.AxesSubplot at 0x1a25f0c790>"
      ]
     },
     "execution_count": 7,
     "metadata": {},
     "output_type": "execute_result"
    },
    {
     "data": {
      "image/png": "[encoded data removed]",
      "text/plain": [
       "<Figure size 432x288 with 1 Axes>"
      ]
     },
     "metadata": {
      "needs_background": "light"
     },
     "output_type": "display_data"
    }
   ],
   "source": [
    "round(df['vote_average']).astype('int').value_counts().sort_index().plot(kind='bar')"
   ]
  },
  {
   "cell_type": "code",
   "execution_count": 8,
   "metadata": {},
   "outputs": [],
   "source": [
    "df['new_genres'] = df['new_genres'].apply( lambda x: re.sub('[%s]'%re.escape(string.punctuation),'',x))\n",
    "df['new_genres'] = df['new_genres'].apply( lambda x: x.lower())"
   ]
  },
  {
   "cell_type": "code",
   "execution_count": null,
   "metadata": {},
   "outputs": [],
   "source": []
  },
  {
   "cell_type": "code",
   "execution_count": 9,
   "metadata": {},
   "outputs": [],
   "source": [
    "genres = [text for text in df['new_genres']]\n",
    "genres = ' '.join(genres).split()"
   ]
  },
  {
   "cell_type": "code",
   "execution_count": 10,
   "metadata": {},
   "outputs": [],
   "source": [
    "count_genre = Counter(genres)\n",
    "top_genre = count_genre.most_common(20)\n",
    "pd.DataFrame(top_genre);"
   ]
  },
  {
   "cell_type": "code",
   "execution_count": 11,
   "metadata": {},
   "outputs": [],
   "source": [
    "genre_words = [word[0] for word in top_genre]\n",
    "genre_counts = [word[1] for word in top_genre]"
   ]
  },
  {
   "cell_type": "code",
   "execution_count": 12,
   "metadata": {},
   "outputs": [
    {
     "data": {
      "image/png": "[encoded data removed]",
      "text/plain": [
       "<Figure size 432x288 with 1 Axes>"
      ]
     },
     "metadata": {
      "needs_background": "light"
     },
     "output_type": "display_data"
    }
   ],
   "source": [
    "sns.barplot(x=genre_words, y=genre_counts)\n",
    "\n",
    "plt.xticks(rotation=30, ha='right')\n",
    "\n",
    "plt.show()"
   ]
  },
  {
   "cell_type": "code",
   "execution_count": 13,
   "metadata": {},
   "outputs": [
    {
     "data": {
      "image/png": "[encoded data removed]",
      "text/plain": [
       "<Figure size 432x288 with 1 Axes>"
      ]
     },
     "metadata": {
      "needs_background": "light"
     },
     "output_type": "display_data"
    }
   ],
   "source": [
    "\n",
    "production_companies = [text for text in df['new_production_companies']]\n",
    "#production_companies = ' '.join(production_companies).split()\n",
    "\n",
    "count_production_companies = Counter(production_companies)\n",
    "top_production_companies = count_production_companies.most_common(20)\n",
    "pd.DataFrame(top_production_companies);\n",
    "\n",
    "production_companies_words = [word[0] for word in top_production_companies]\n",
    "production_companies_counts = [word[1] for word in top_production_companies]\n",
    "\n",
    "sns.barplot(x=production_companies_words[1:11], y=production_companies_counts[1:11])\n",
    "\n",
    "plt.xticks(rotation=30, ha='right')\n",
    "\n",
    "plt.show()"
   ]
  },
  {
   "cell_type": "code",
   "execution_count": 14,
   "metadata": {},
   "outputs": [],
   "source": [
    "#production_countries = [text for text in df['new_production_countries']]\n",
    "#production_countries = (' ').join(production_countries).split(\"\")\n",
    "#\n",
    "#count_production_countries = Counter(production_countries)\n",
    "#top_production_countries = count_production_countries.most_common(20)\n",
    "#pd.DataFrame(top_production_countries);\n",
    "#\n",
    "#production_countries_words = [word[0] for word in top_production_countries]\n",
    "#production_countries_counts = [word[1] for word in top_production_countries]\n",
    "#\n",
    "#sns.barplot(x=production_countries_words[0:11], y=production_countries_counts[0:11])\n",
    "\n",
    "#plt.xticks(rotation=30, ha='right')\n",
    "#\n",
    "#plt.show()"
   ]
  },
  {
   "cell_type": "code",
   "execution_count": 15,
   "metadata": {},
   "outputs": [
    {
     "name": "stderr",
     "output_type": "stream",
     "text": [
      "/Users/austinyu/opt/anaconda3/lib/python3.7/site-packages/matplotlib/backends/backend_agg.py:211: RuntimeWarning: Glyph 26085 missing from current font.\n",
      "  font.set_text(s, 0.0, flags=flags)\n",
      "/Users/austinyu/opt/anaconda3/lib/python3.7/site-packages/matplotlib/backends/backend_agg.py:211: RuntimeWarning: Glyph 26412 missing from current font.\n",
      "  font.set_text(s, 0.0, flags=flags)\n",
      "/Users/austinyu/opt/anaconda3/lib/python3.7/site-packages/matplotlib/backends/backend_agg.py:211: RuntimeWarning: Glyph 35486 missing from current font.\n",
      "  font.set_text(s, 0.0, flags=flags)\n",
      "/Users/austinyu/opt/anaconda3/lib/python3.7/site-packages/matplotlib/backends/backend_agg.py:211: RuntimeWarning: Glyph 26222 missing from current font.\n",
      "  font.set_text(s, 0.0, flags=flags)\n",
      "/Users/austinyu/opt/anaconda3/lib/python3.7/site-packages/matplotlib/backends/backend_agg.py:211: RuntimeWarning: Glyph 36890 missing from current font.\n",
      "  font.set_text(s, 0.0, flags=flags)\n",
      "/Users/austinyu/opt/anaconda3/lib/python3.7/site-packages/matplotlib/backends/backend_agg.py:211: RuntimeWarning: Glyph 35805 missing from current font.\n",
      "  font.set_text(s, 0.0, flags=flags)\n",
      "/Users/austinyu/opt/anaconda3/lib/python3.7/site-packages/matplotlib/backends/backend_agg.py:211: RuntimeWarning: Glyph 2361 missing from current font.\n",
      "  font.set_text(s, 0.0, flags=flags)\n",
      "/Users/austinyu/opt/anaconda3/lib/python3.7/site-packages/matplotlib/backends/backend_agg.py:211: RuntimeWarning: Glyph 2367 missing from current font.\n",
      "  font.set_text(s, 0.0, flags=flags)\n",
      "/Users/austinyu/opt/anaconda3/lib/python3.7/site-packages/matplotlib/backends/backend_agg.py:211: RuntimeWarning: Glyph 2344 missing from current font.\n",
      "  font.set_text(s, 0.0, flags=flags)\n",
      "/Users/austinyu/opt/anaconda3/lib/python3.7/site-packages/matplotlib/backends/backend_agg.py:211: RuntimeWarning: Glyph 2381 missing from current font.\n",
      "  font.set_text(s, 0.0, flags=flags)\n",
      "/Users/austinyu/opt/anaconda3/lib/python3.7/site-packages/matplotlib/backends/backend_agg.py:211: RuntimeWarning: Glyph 2342 missing from current font.\n",
      "  font.set_text(s, 0.0, flags=flags)\n",
      "/Users/austinyu/opt/anaconda3/lib/python3.7/site-packages/matplotlib/backends/backend_agg.py:211: RuntimeWarning: Glyph 2368 missing from current font.\n",
      "  font.set_text(s, 0.0, flags=flags)\n",
      "/Users/austinyu/opt/anaconda3/lib/python3.7/site-packages/matplotlib/backends/backend_agg.py:180: RuntimeWarning: Glyph 26085 missing from current font.\n",
      "  font.set_text(s, 0, flags=flags)\n",
      "/Users/austinyu/opt/anaconda3/lib/python3.7/site-packages/matplotlib/backends/backend_agg.py:180: RuntimeWarning: Glyph 26412 missing from current font.\n",
      "  font.set_text(s, 0, flags=flags)\n",
      "/Users/austinyu/opt/anaconda3/lib/python3.7/site-packages/matplotlib/backends/backend_agg.py:180: RuntimeWarning: Glyph 35486 missing from current font.\n",
      "  font.set_text(s, 0, flags=flags)\n",
      "/Users/austinyu/opt/anaconda3/lib/python3.7/site-packages/matplotlib/backends/backend_agg.py:180: RuntimeWarning: Glyph 26222 missing from current font.\n",
      "  font.set_text(s, 0, flags=flags)\n",
      "/Users/austinyu/opt/anaconda3/lib/python3.7/site-packages/matplotlib/backends/backend_agg.py:180: RuntimeWarning: Glyph 36890 missing from current font.\n",
      "  font.set_text(s, 0, flags=flags)\n",
      "/Users/austinyu/opt/anaconda3/lib/python3.7/site-packages/matplotlib/backends/backend_agg.py:180: RuntimeWarning: Glyph 35805 missing from current font.\n",
      "  font.set_text(s, 0, flags=flags)\n",
      "/Users/austinyu/opt/anaconda3/lib/python3.7/site-packages/matplotlib/backends/backend_agg.py:180: RuntimeWarning: Glyph 2361 missing from current font.\n",
      "  font.set_text(s, 0, flags=flags)\n",
      "/Users/austinyu/opt/anaconda3/lib/python3.7/site-packages/matplotlib/backends/backend_agg.py:180: RuntimeWarning: Glyph 2367 missing from current font.\n",
      "  font.set_text(s, 0, flags=flags)\n",
      "/Users/austinyu/opt/anaconda3/lib/python3.7/site-packages/matplotlib/backends/backend_agg.py:180: RuntimeWarning: Glyph 2344 missing from current font.\n",
      "  font.set_text(s, 0, flags=flags)\n",
      "/Users/austinyu/opt/anaconda3/lib/python3.7/site-packages/matplotlib/backends/backend_agg.py:180: RuntimeWarning: Glyph 2381 missing from current font.\n",
      "  font.set_text(s, 0, flags=flags)\n",
      "/Users/austinyu/opt/anaconda3/lib/python3.7/site-packages/matplotlib/backends/backend_agg.py:180: RuntimeWarning: Glyph 2342 missing from current font.\n",
      "  font.set_text(s, 0, flags=flags)\n",
      "/Users/austinyu/opt/anaconda3/lib/python3.7/site-packages/matplotlib/backends/backend_agg.py:180: RuntimeWarning: Glyph 2368 missing from current font.\n",
      "  font.set_text(s, 0, flags=flags)\n"
     ]
    },
    {
     "data": {
      "image/png": "[encoded data removed]",
      "text/plain": [
       "<Figure size 432x288 with 1 Axes>"
      ]
     },
     "metadata": {
      "needs_background": "light"
     },
     "output_type": "display_data"
    }
   ],
   "source": [
    "df['new_spoken_languages'] = df['new_spoken_languages'].apply( lambda x: re.sub('[%s]'%re.escape(string.punctuation),'',x))\n",
    "df['new_spoken_languages'] = df['new_spoken_languages'].apply( lambda x: x.lower())\n",
    "\n",
    "spoken_languages = [text for text in df['new_spoken_languages']]\n",
    "spoken_languages = ' '.join(spoken_languages).split()\n",
    "\n",
    "count_spoken_languages = Counter(spoken_languages)\n",
    "top_spoken_languages = count_spoken_languages.most_common(20)\n",
    "pd.DataFrame(top_spoken_languages);\n",
    "\n",
    "spoken_languages_words = [word[0] for word in top_spoken_languages]\n",
    "spoken_languages_counts = [word[1] for word in top_spoken_languages]\n",
    "\n",
    "sns.barplot(x=spoken_languages_words[0:10], y=spoken_languages_counts[0:10])\n",
    "\n",
    "plt.xticks(rotation=30, ha='right')\n",
    "\n",
    "plt.show()"
   ]
  },
  {
   "cell_type": "code",
   "execution_count": 16,
   "metadata": {},
   "outputs": [
    {
     "data": {
      "text/plain": [
       "(array([0, 1, 2, 3, 4, 5, 6, 7, 8, 9]), <a list of 10 Text xticklabel objects>)"
      ]
     },
     "execution_count": 16,
     "metadata": {},
     "output_type": "execute_result"
    },
    {
     "data": {
      "image/png": "[encoded data removed]",
      "text/plain": [
       "<Figure size 432x288 with 1 Axes>"
      ]
     },
     "metadata": {
      "needs_background": "light"
     },
     "output_type": "display_data"
    }
   ],
   "source": [
    "df['new_cast'] = df['new_cast'].apply( lambda x: re.sub('[%s]'%re.escape(string.punctuation),'',x))\n",
    "df['new_cast'] = df['new_cast'].apply( lambda x: x.lower())\n",
    "\n",
    "cast = [text for text in df['new_cast']]\n",
    "cast = ' '.join(cast).split()\n",
    "\n",
    "count_cast = Counter(cast)\n",
    "top_cast = count_cast.most_common(20)\n",
    "pd.DataFrame(top_cast);\n",
    "\n",
    "cast_words = [word[0] for word in top_cast]\n",
    "cast_counts = [word[1] for word in top_cast]\n",
    "\n",
    "sns.barplot(x=cast_words[0:10], y=cast_counts[0:10])\n",
    "\n",
    "plt.xticks(rotation=30, ha='right')\n"
   ]
  },
  {
   "cell_type": "code",
   "execution_count": 17,
   "metadata": {},
   "outputs": [
    {
     "data": {
      "text/plain": [
       "(array([0, 1, 2, 3, 4, 5, 6, 7, 8, 9]), <a list of 10 Text xticklabel objects>)"
      ]
     },
     "execution_count": 17,
     "metadata": {},
     "output_type": "execute_result"
    },
    {
     "data": {
      "image/png": "[encoded data removed]",
      "text/plain": [
       "<Figure size 432x288 with 1 Axes>"
      ]
     },
     "metadata": {
      "needs_background": "light"
     },
     "output_type": "display_data"
    }
   ],
   "source": [
    "\n",
    "df['new_keywords'] = df['new_keywords'].apply( lambda x: re.sub('[%s]'%re.escape(string.punctuation),'',x))\n",
    "df['new_keywords'] = df['new_keywords'].apply( lambda x: x.lower())\n",
    "\n",
    "keywords = [text for text in df['new_keywords']]\n",
    "keywords = ' '.join(keywords).split()\n",
    "\n",
    "count_keywords = Counter(keywords)\n",
    "top_keywords = count_keywords.most_common(20)\n",
    "pd.DataFrame(top_keywords);\n",
    "\n",
    "keywords_words = [word[0] for word in top_keywords]\n",
    "keywords_counts = [word[1] for word in top_keywords]\n",
    "\n",
    "sns.barplot(x=keywords_words[0:10], y=keywords_counts[0:10])\n",
    "\n",
    "plt.xticks(rotation=30, ha='right')\n"
   ]
  },
  {
   "cell_type": "markdown",
   "metadata": {},
   "source": [
    "# Recommendation_Engine"
   ]
  },
  {
   "cell_type": "code",
   "execution_count": 18,
   "metadata": {},
   "outputs": [],
   "source": [
    "count_matrix = CountVectorizer().fit_transform(df['combine_text'])"
   ]
  },
  {
   "cell_type": "code",
   "execution_count": 19,
   "metadata": {},
   "outputs": [],
   "source": [
    "cosine_sm = cosine_similarity(count_matrix)"
   ]
  },
  {
   "cell_type": "code",
   "execution_count": 20,
   "metadata": {},
   "outputs": [
    {
     "name": "stdout",
     "output_type": "stream",
     "text": [
      "[[1.         0.16485188 0.21282286 ... 0.14783528 0.26041025 0.25624782]\n",
      " [0.16485188 1.         0.18143706 ... 0.14833167 0.25499704 0.24431098]\n",
      " [0.21282286 0.18143706 1.         ... 0.1013799  0.39233396 0.38299072]\n",
      " ...\n",
      " [0.14783528 0.14833167 0.1013799  ... 1.         0.08457855 0.16901408]\n",
      " [0.26041025 0.25499704 0.39233396 ... 0.08457855 1.         0.57513412]\n",
      " [0.25624782 0.24431098 0.38299072 ... 0.16901408 0.57513412 1.        ]]\n"
     ]
    }
   ],
   "source": [
    "print(cosine_sm)"
   ]
  },
  {
   "cell_type": "code",
   "execution_count": 21,
   "metadata": {},
   "outputs": [
    {
     "data": {
      "text/plain": [
       "(46910, 46910)"
      ]
     },
     "execution_count": 21,
     "metadata": {},
     "output_type": "execute_result"
    }
   ],
   "source": [
    "cosine_sm.shape"
   ]
  },
  {
   "cell_type": "code",
   "execution_count": null,
   "metadata": {},
   "outputs": [],
   "source": []
  },
  {
   "cell_type": "code",
   "execution_count": 22,
   "metadata": {},
   "outputs": [],
   "source": [
    "def get_title_from_index(index):\n",
    "    return df[df.index == index]['original_title'].values[0]\n",
    "\n",
    "def get_index_from_title(title):\n",
    "    return df[df.original_title == title]['index'].values[0]"
   ]
  },
  {
   "cell_type": "code",
   "execution_count": 23,
   "metadata": {},
   "outputs": [
    {
     "name": "stdout",
     "output_type": "stream",
     "text": [
      "0\n"
     ]
    }
   ],
   "source": [
    "movie_user_likes = 'Toy Story'\n",
    "\n",
    "movie_index = get_index_from_title(movie_user_likes)\n",
    "print(movie_index)"
   ]
  },
  {
   "cell_type": "code",
   "execution_count": 24,
   "metadata": {},
   "outputs": [],
   "source": [
    "similar_movies = list(enumerate(cosine_sm[movie_index]))"
   ]
  },
  {
   "cell_type": "code",
   "execution_count": 25,
   "metadata": {},
   "outputs": [
    {
     "data": {
      "text/plain": [
       "[(1, 0.16485187793561917),\n",
       " (2, 0.212822859278557),\n",
       " (3, 0.19795189561622395),\n",
       " (4, 0.19113629903539223),\n",
       " (5, 0.12233754573222991),\n",
       " (6, 0.09302954520619311),\n",
       " (7, 0.2491364395612199),\n",
       " (8, 0.1651685910387792),\n",
       " (9, 0.1754656015858991)]"
      ]
     },
     "execution_count": 25,
     "metadata": {},
     "output_type": "execute_result"
    }
   ],
   "source": [
    "similar_movies[1:10]"
   ]
  },
  {
   "cell_type": "code",
   "execution_count": 26,
   "metadata": {},
   "outputs": [],
   "source": [
    "sorted_similar_movies = sorted(similar_movies, key = lambda x: x[1], reverse = True)[1:10]"
   ]
  },
  {
   "cell_type": "code",
   "execution_count": 27,
   "metadata": {},
   "outputs": [
    {
     "data": {
      "text/plain": [
       "[(3056, 0.5550906593973836),\n",
       " (15745, 0.4850583336112524),\n",
       " (26275, 0.41108939946131423),\n",
       " (24999, 0.3898927605111518),\n",
       " (23194, 0.38701462788131846),\n",
       " (26273, 0.3802108336180528),\n",
       " (22392, 0.3729349269914458),\n",
       " (2038, 0.35763065657235854),\n",
       " (23131, 0.3527909248536153)]"
      ]
     },
     "execution_count": 27,
     "metadata": {},
     "output_type": "execute_result"
    }
   ],
   "source": [
    "sorted_similar_movies"
   ]
  },
  {
   "cell_type": "code",
   "execution_count": 28,
   "metadata": {},
   "outputs": [
    {
     "name": "stdout",
     "output_type": "stream",
     "text": [
      "Toy Story\n",
      "Toy Story 2\n",
      "Toy Story 3\n",
      "Toy Story That Time Forgot\n",
      "Small Fry\n",
      "La luna\n"
     ]
    }
   ],
   "source": [
    "i = 0 \n",
    "print(movie_user_likes)\n",
    "for element in sorted_similar_movies:\n",
    "    print(get_title_from_index(element[0]))\n",
    "    i = i + 1\n",
    "    if i == 5:\n",
    "        break"
   ]
  },
  {
   "cell_type": "code",
   "execution_count": null,
   "metadata": {},
   "outputs": [],
   "source": []
  }
 ],
 "metadata": {
  "kernelspec": {
   "display_name": "Python 3",
   "language": "python",
   "name": "python3"
  },
  "language_info": {
   "codemirror_mode": {
    "name": "ipython",
    "version": 3
   },
   "file_extension": ".py",
   "mimetype": "text/x-python",
   "name": "python",
   "nbconvert_exporter": "python",
   "pygments_lexer": "ipython3",
   "version": "3.7.4"
  }
 },
 "nbformat": 4,
 "nbformat_minor": 2
}
