{
 "cells": [
  {
   "cell_type": "code",
   "execution_count": 1,
   "metadata": {},
   "outputs": [],
   "source": [
    "import pandas as pd\n",
    "import numpy as np\n",
    "import statistics\n",
    "from surprise import Dataset, Reader, SVD, accuracy\n",
    "from surprise.model_selection import cross_validate, KFold, GridSearchCV\n",
    "\n",
    "import warnings\n",
    "warnings.filterwarnings(\"ignore\")"
   ]
  },
  {
   "cell_type": "markdown",
   "metadata": {},
   "source": [
    "# Introduction\n",
    "This model exploits the similarities between the preferences of the users and the past ratings given by a user to generate recommendations."
   ]
  },
  {
   "cell_type": "code",
   "execution_count": 2,
   "metadata": {},
   "outputs": [
    {
     "data": {
      "text/plain": [
       "(11458900, 5)"
      ]
     },
     "execution_count": 2,
     "metadata": {},
     "output_type": "execute_result"
    }
   ],
   "source": [
    "df = pd.read_csv('user.csv')\n",
    "df.shape"
   ]
  },
  {
   "cell_type": "markdown",
   "metadata": {},
   "source": [
    "#### Notes: We only run 25% of the dataset due to lack of time "
   ]
  },
  {
   "cell_type": "code",
   "execution_count": 3,
   "metadata": {},
   "outputs": [
    {
     "data": {
      "text/html": [
       "<div>\n",
       "<style scoped>\n",
       "    .dataframe tbody tr th:only-of-type {\n",
       "        vertical-align: middle;\n",
       "    }\n",
       "\n",
       "    .dataframe tbody tr th {\n",
       "        vertical-align: top;\n",
       "    }\n",
       "\n",
       "    .dataframe thead th {\n",
       "        text-align: right;\n",
       "    }\n",
       "</style>\n",
       "<table border=\"1\" class=\"dataframe\">\n",
       "  <thead>\n",
       "    <tr style=\"text-align: right;\">\n",
       "      <th></th>\n",
       "      <th>movieId</th>\n",
       "      <th>original_title</th>\n",
       "      <th>userId</th>\n",
       "      <th>rating</th>\n",
       "    </tr>\n",
       "  </thead>\n",
       "  <tbody>\n",
       "    <tr>\n",
       "      <td>4686059</td>\n",
       "      <td>3052</td>\n",
       "      <td>Don't Make Waves</td>\n",
       "      <td>185614</td>\n",
       "      <td>4.5</td>\n",
       "    </tr>\n",
       "    <tr>\n",
       "      <td>6762380</td>\n",
       "      <td>1959</td>\n",
       "      <td>Swept from the Sea</td>\n",
       "      <td>129519</td>\n",
       "      <td>4.0</td>\n",
       "    </tr>\n",
       "  </tbody>\n",
       "</table>\n",
       "</div>"
      ],
      "text/plain": [
       "         movieId      original_title  userId  rating\n",
       "4686059     3052    Don't Make Waves  185614     4.5\n",
       "6762380     1959  Swept from the Sea  129519     4.0"
      ]
     },
     "metadata": {},
     "output_type": "display_data"
    },
    {
     "name": "stdout",
     "output_type": "stream",
     "text": [
      "(286472, 4)\n"
     ]
    }
   ],
   "source": [
    "df = df.drop(columns = ['Unnamed: 0'])\n",
    "df = df.sample(frac=0.025, replace=True, random_state=1)\n",
    "display(df.head(2))\n",
    "print(df.shape)"
   ]
  },
  {
   "cell_type": "code",
   "execution_count": 4,
   "metadata": {},
   "outputs": [
    {
     "data": {
      "text/html": [
       "<div>\n",
       "<style scoped>\n",
       "    .dataframe tbody tr th:only-of-type {\n",
       "        vertical-align: middle;\n",
       "    }\n",
       "\n",
       "    .dataframe tbody tr th {\n",
       "        vertical-align: top;\n",
       "    }\n",
       "\n",
       "    .dataframe thead th {\n",
       "        text-align: right;\n",
       "    }\n",
       "</style>\n",
       "<table border=\"1\" class=\"dataframe\">\n",
       "  <thead>\n",
       "    <tr style=\"text-align: right;\">\n",
       "      <th></th>\n",
       "      <th>movieId</th>\n",
       "      <th>original_title</th>\n",
       "    </tr>\n",
       "  </thead>\n",
       "  <tbody>\n",
       "    <tr>\n",
       "      <td>4686059</td>\n",
       "      <td>3052</td>\n",
       "      <td>Don't Make Waves</td>\n",
       "    </tr>\n",
       "    <tr>\n",
       "      <td>6762380</td>\n",
       "      <td>1959</td>\n",
       "      <td>Swept from the Sea</td>\n",
       "    </tr>\n",
       "    <tr>\n",
       "      <td>491263</td>\n",
       "      <td>260</td>\n",
       "      <td>The 39 Steps</td>\n",
       "    </tr>\n",
       "    <tr>\n",
       "      <td>6662859</td>\n",
       "      <td>1611</td>\n",
       "      <td>Das Wunder von Bern</td>\n",
       "    </tr>\n",
       "    <tr>\n",
       "      <td>9554767</td>\n",
       "      <td>558</td>\n",
       "      <td>Spider-Man 2</td>\n",
       "    </tr>\n",
       "  </tbody>\n",
       "</table>\n",
       "</div>"
      ],
      "text/plain": [
       "         movieId       original_title\n",
       "4686059     3052     Don't Make Waves\n",
       "6762380     1959   Swept from the Sea\n",
       "491263       260         The 39 Steps\n",
       "6662859     1611  Das Wunder von Bern\n",
       "9554767      558         Spider-Man 2"
      ]
     },
     "metadata": {},
     "output_type": "display_data"
    },
    {
     "name": "stdout",
     "output_type": "stream",
     "text": [
      "(286472, 2)\n"
     ]
    }
   ],
   "source": [
    "df_movie = df[['movieId','original_title']]\n",
    "display(df_movie.head(5))\n",
    "print(df_movie.shape)"
   ]
  },
  {
   "cell_type": "code",
   "execution_count": 5,
   "metadata": {},
   "outputs": [
    {
     "data": {
      "text/html": [
       "<div>\n",
       "<style scoped>\n",
       "    .dataframe tbody tr th:only-of-type {\n",
       "        vertical-align: middle;\n",
       "    }\n",
       "\n",
       "    .dataframe tbody tr th {\n",
       "        vertical-align: top;\n",
       "    }\n",
       "\n",
       "    .dataframe thead th {\n",
       "        text-align: right;\n",
       "    }\n",
       "</style>\n",
       "<table border=\"1\" class=\"dataframe\">\n",
       "  <thead>\n",
       "    <tr style=\"text-align: right;\">\n",
       "      <th></th>\n",
       "      <th>movieId</th>\n",
       "      <th>original_title</th>\n",
       "    </tr>\n",
       "  </thead>\n",
       "  <tbody>\n",
       "    <tr>\n",
       "      <td>0</td>\n",
       "      <td>2</td>\n",
       "      <td>Ariel</td>\n",
       "    </tr>\n",
       "    <tr>\n",
       "      <td>1</td>\n",
       "      <td>3</td>\n",
       "      <td>Varjoja paratiisissa</td>\n",
       "    </tr>\n",
       "    <tr>\n",
       "      <td>2</td>\n",
       "      <td>5</td>\n",
       "      <td>Four Rooms</td>\n",
       "    </tr>\n",
       "    <tr>\n",
       "      <td>3</td>\n",
       "      <td>6</td>\n",
       "      <td>Judgment Night</td>\n",
       "    </tr>\n",
       "    <tr>\n",
       "      <td>4</td>\n",
       "      <td>11</td>\n",
       "      <td>Star Wars</td>\n",
       "    </tr>\n",
       "  </tbody>\n",
       "</table>\n",
       "</div>"
      ],
      "text/plain": [
       "   movieId        original_title\n",
       "0        2                 Ariel\n",
       "1        3  Varjoja paratiisissa\n",
       "2        5            Four Rooms\n",
       "3        6        Judgment Night\n",
       "4       11             Star Wars"
      ]
     },
     "metadata": {},
     "output_type": "display_data"
    },
    {
     "name": "stdout",
     "output_type": "stream",
     "text": [
      "(4405, 2)\n"
     ]
    }
   ],
   "source": [
    "df_movie_name = df_movie.groupby('movieId').nth([0]).reset_index()\n",
    "display(df_movie_name.head(5))\n",
    "print(df_movie_name.shape)"
   ]
  },
  {
   "cell_type": "code",
   "execution_count": 6,
   "metadata": {},
   "outputs": [
    {
     "data": {
      "text/html": [
       "<div>\n",
       "<style scoped>\n",
       "    .dataframe tbody tr th:only-of-type {\n",
       "        vertical-align: middle;\n",
       "    }\n",
       "\n",
       "    .dataframe tbody tr th {\n",
       "        vertical-align: top;\n",
       "    }\n",
       "\n",
       "    .dataframe thead th {\n",
       "        text-align: right;\n",
       "    }\n",
       "</style>\n",
       "<table border=\"1\" class=\"dataframe\">\n",
       "  <thead>\n",
       "    <tr style=\"text-align: right;\">\n",
       "      <th></th>\n",
       "      <th>movie</th>\n",
       "      <th>user_id</th>\n",
       "      <th>rating</th>\n",
       "    </tr>\n",
       "  </thead>\n",
       "  <tbody>\n",
       "    <tr>\n",
       "      <td>4686059</td>\n",
       "      <td>3052</td>\n",
       "      <td>185614</td>\n",
       "      <td>4.5</td>\n",
       "    </tr>\n",
       "    <tr>\n",
       "      <td>6762380</td>\n",
       "      <td>1959</td>\n",
       "      <td>129519</td>\n",
       "      <td>4.0</td>\n",
       "    </tr>\n",
       "    <tr>\n",
       "      <td>491263</td>\n",
       "      <td>260</td>\n",
       "      <td>57380</td>\n",
       "      <td>3.0</td>\n",
       "    </tr>\n",
       "    <tr>\n",
       "      <td>6662859</td>\n",
       "      <td>1611</td>\n",
       "      <td>246589</td>\n",
       "      <td>3.5</td>\n",
       "    </tr>\n",
       "    <tr>\n",
       "      <td>9554767</td>\n",
       "      <td>558</td>\n",
       "      <td>90607</td>\n",
       "      <td>3.0</td>\n",
       "    </tr>\n",
       "  </tbody>\n",
       "</table>\n",
       "</div>"
      ],
      "text/plain": [
       "         movie  user_id  rating\n",
       "4686059   3052   185614     4.5\n",
       "6762380   1959   129519     4.0\n",
       "491263     260    57380     3.0\n",
       "6662859   1611   246589     3.5\n",
       "9554767    558    90607     3.0"
      ]
     },
     "metadata": {},
     "output_type": "display_data"
    },
    {
     "name": "stdout",
     "output_type": "stream",
     "text": [
      "(286472, 3)\n"
     ]
    }
   ],
   "source": [
    "model_df = pd.DataFrame({'movie': df['movieId'], 'user_id':df['userId'], 'rating':df['rating']})\n",
    "display(model_df.head(5))\n",
    "print(model_df.shape)"
   ]
  },
  {
   "cell_type": "markdown",
   "metadata": {},
   "source": [
    "To Build the recommendation system, we need to use a Scikit-learn library called Surprise. This library is very useful for build and analyze recommendation system with rating dataset.\n",
    "\n",
    "Since, not every users rated all the movies is hard to evaluate the accuracy. Luckily, the Surprise library has built-in features that can calculate the accuracy of various machine learning models like SVD,KNN and etc."
   ]
  },
  {
   "cell_type": "code",
   "execution_count": 7,
   "metadata": {},
   "outputs": [],
   "source": [
    "reader = Reader(rating_scale=(1, 5))\n",
    "\n",
    "data = Dataset.load_from_df(model_df[['user_id', 'movie', 'rating']], reader)"
   ]
  },
  {
   "cell_type": "markdown",
   "metadata": {},
   "source": [
    "It's time to do machine learning. Let's fit a Singular Value Decomposition model (SVD). \n",
    "The Singular Value Decomposition model will separate the user-item rating matrix into two smaller matrices containing user and movie features. Then, it will predicts the ratings based on the dot product of the two matrices.\n",
    "\n",
    "Next, we need to do train test split. I am using the built in three-fold cross validation function to optimize the hyperparameters."
   ]
  },
  {
   "cell_type": "code",
   "execution_count": 8,
   "metadata": {},
   "outputs": [
    {
     "name": "stdout",
     "output_type": "stream",
     "text": [
      "Evaluating RMSE, MAE of algorithm SVD on 3 split(s).\n",
      "\n",
      "                  Fold 1  Fold 2  Fold 3  Mean    Std     \n",
      "RMSE (testset)    0.9520  0.9552  0.9523  0.9532  0.0015  \n",
      "MAE (testset)     0.7401  0.7413  0.7392  0.7402  0.0009  \n",
      "Fit time          10.85   10.96   10.79   10.87   0.07    \n",
      "Test time         0.83    0.71    0.71    0.75    0.06    \n"
     ]
    }
   ],
   "source": [
    "algo = SVD(random_state=10)\n",
    "\n",
    "cross_validate(algo, data, measures=['RMSE', 'MAE'], cv=3, verbose=True);"
   ]
  },
  {
   "cell_type": "markdown",
   "metadata": {},
   "source": [
    "The table shows that Fold 2 has the lowest RMSE error. <br>\n",
    "Let's try to fit into the SVD parameter and reducing the RMSE error."
   ]
  },
  {
   "cell_type": "code",
   "execution_count": 9,
   "metadata": {},
   "outputs": [
    {
     "name": "stdout",
     "output_type": "stream",
     "text": [
      "RMSE: 0.9508\n",
      "RMSE: 0.9531\n",
      "RMSE: 0.9542\n"
     ]
    }
   ],
   "source": [
    "kf = KFold(n_splits = 3)\n",
    "\n",
    "algo = SVD()\n",
    "\n",
    "all_acc = []\n",
    "for trainset, testset in kf.split(data):\n",
    "\n",
    "    algo.fit(trainset)\n",
    "    predictions = algo.test(testset)\n",
    "   \n",
    "    acc = accuracy.rmse(predictions, verbose=True);\n",
    "    all_acc.append(acc)\n",
    "    "
   ]
  },
  {
   "cell_type": "code",
   "execution_count": 10,
   "metadata": {},
   "outputs": [
    {
     "data": {
      "text/plain": [
       "0.9527214184603517"
      ]
     },
     "execution_count": 10,
     "metadata": {},
     "output_type": "execute_result"
    }
   ],
   "source": [
    "statistics.mean(all_acc)"
   ]
  },
  {
   "cell_type": "markdown",
   "metadata": {},
   "source": [
    "Using Grid search to finetune the hyperparameters and minimize the error term using stochastic gradient descent algorithm:"
   ]
  },
  {
   "cell_type": "code",
   "execution_count": 11,
   "metadata": {},
   "outputs": [
    {
     "name": "stdout",
     "output_type": "stream",
     "text": [
      "RMSE Accuary Score: 0.9489231651015894\n",
      "{'n_epochs': 25, 'lr_all': 0.004, 'reg_all': 0.2}\n"
     ]
    }
   ],
   "source": [
    "param_grid = {'n_epochs': [15, 25], 'lr_all': [0.002, 0.004],\n",
    "              'reg_all': [0.2, 0.4]}\n",
    "grid_search = GridSearchCV(SVD, param_grid, measures=['rmse'], cv=3)\n",
    "grid_search.fit(data)\n",
    "\n",
    "print(f\"RMSE Accuary Score: {grid_search.best_score['rmse']}\")\n",
    "print(grid_search.best_params['rmse'])"
   ]
  },
  {
   "cell_type": "code",
   "execution_count": 12,
   "metadata": {},
   "outputs": [
    {
     "name": "stdout",
     "output_type": "stream",
     "text": [
      "RMSE Accuary Score: 0.9436076004911383\n",
      "{'n_epochs': 35, 'lr_all': 0.005, 'reg_all': 0.1}\n"
     ]
    }
   ],
   "source": [
    "param_grid2 = {'n_epochs': [25, 35], 'lr_all': [0.003, 0.005],\n",
    "              'reg_all': [0.1, 0.3]}\n",
    "grid_search2 = GridSearchCV(SVD, param_grid2, measures=['rmse'], cv=3)\n",
    "grid_search2.fit(data)\n",
    "\n",
    "print(f\"RMSE Accuary Score: {grid_search2.best_score['rmse']}\")\n",
    "print(grid_search2.best_params['rmse'])"
   ]
  },
  {
   "cell_type": "markdown",
   "metadata": {},
   "source": [
    "As the result, the GridSearchCV shows that the model 2 get the lowest RMSE accuary. Then, we will apply the result into our model."
   ]
  },
  {
   "cell_type": "code",
   "execution_count": 13,
   "metadata": {},
   "outputs": [],
   "source": [
    "trainset = data.build_full_trainset()\n",
    "\n",
    "model = SVD(n_epochs = 35, lr_all = 0.005, reg_all = 0.1)\n",
    "\n",
    "model.fit(trainset);"
   ]
  },
  {
   "cell_type": "markdown",
   "metadata": {},
   "source": [
    "# Movie Collaborative Filtering Function "
   ]
  },
  {
   "cell_type": "markdown",
   "metadata": {},
   "source": [
    "This Movie Collaborative Filtering Function helps user find the movies that they haven't rate (WATCH)."
   ]
  },
  {
   "cell_type": "code",
   "execution_count": 14,
   "metadata": {},
   "outputs": [],
   "source": [
    "def movie_collaborative_fitering(user_id):\n",
    "\n",
    "    movie = model_df['movie'].unique()\n",
    "    rated = model_df.loc[model_df['user_id']== user_id, 'movie']\n",
    "    unrated = np.setdiff1d(movie, rated)\n",
    "    \n",
    "    test_set = [[user_id, item_id, 4] for item_id in unrated]\n",
    "    predictions = model.test(test_set)\n",
    "    pred_ratings = np.array([pred.est for pred in predictions])\n",
    "    \n",
    "    top_item = pred_ratings.argsort()[-5:][::-1]\n",
    "    item_id = unrated[top_item]\n",
    "    \n",
    "    x = pd.DataFrame()\n",
    "    for movie_id in item_id:\n",
    "        recommended_movies = [(df_movie_name[df_movie_name['movieId'] == movie_id])]\n",
    "        x = x.append(recommended_movies)\n",
    "    print('Recommended movies:')\n",
    "    \n",
    "    return display(x)"
   ]
  },
  {
   "cell_type": "code",
   "execution_count": 15,
   "metadata": {},
   "outputs": [
    {
     "data": {
      "text/plain": [
       "0    185614\n",
       "1    129519\n",
       "2     57380\n",
       "3    246589\n",
       "4     90607\n",
       "Name: user_id, dtype: int64"
      ]
     },
     "execution_count": 15,
     "metadata": {},
     "output_type": "execute_result"
    }
   ],
   "source": [
    "user_test = model_df['user_id']\n",
    "user_test = user_test.reset_index(drop= True)\n",
    "user_test.head()"
   ]
  },
  {
   "cell_type": "code",
   "execution_count": 16,
   "metadata": {},
   "outputs": [
    {
     "name": "stdout",
     "output_type": "stream",
     "text": [
      "Recommended movies:\n"
     ]
    },
    {
     "data": {
      "text/html": [
       "<div>\n",
       "<style scoped>\n",
       "    .dataframe tbody tr th:only-of-type {\n",
       "        vertical-align: middle;\n",
       "    }\n",
       "\n",
       "    .dataframe tbody tr th {\n",
       "        vertical-align: top;\n",
       "    }\n",
       "\n",
       "    .dataframe thead th {\n",
       "        text-align: right;\n",
       "    }\n",
       "</style>\n",
       "<table border=\"1\" class=\"dataframe\">\n",
       "  <thead>\n",
       "    <tr style=\"text-align: right;\">\n",
       "      <th></th>\n",
       "      <th>movieId</th>\n",
       "      <th>original_title</th>\n",
       "    </tr>\n",
       "  </thead>\n",
       "  <tbody>\n",
       "    <tr>\n",
       "      <td>2765</td>\n",
       "      <td>26366</td>\n",
       "      <td>Ellen DeGeneres: The Beginning</td>\n",
       "    </tr>\n",
       "    <tr>\n",
       "      <td>3917</td>\n",
       "      <td>84273</td>\n",
       "      <td>Потомок Чингисхана</td>\n",
       "    </tr>\n",
       "    <tr>\n",
       "      <td>1084</td>\n",
       "      <td>1900</td>\n",
       "      <td>Traffic</td>\n",
       "    </tr>\n",
       "    <tr>\n",
       "      <td>1592</td>\n",
       "      <td>3086</td>\n",
       "      <td>The Lady Eve</td>\n",
       "    </tr>\n",
       "    <tr>\n",
       "      <td>57</td>\n",
       "      <td>96</td>\n",
       "      <td>Beverly Hills Cop II</td>\n",
       "    </tr>\n",
       "  </tbody>\n",
       "</table>\n",
       "</div>"
      ],
      "text/plain": [
       "      movieId                  original_title\n",
       "2765    26366  Ellen DeGeneres: The Beginning\n",
       "3917    84273              Потомок Чингисхана\n",
       "1084     1900                         Traffic\n",
       "1592     3086                    The Lady Eve\n",
       "57         96            Beverly Hills Cop II"
      ]
     },
     "metadata": {},
     "output_type": "display_data"
    }
   ],
   "source": [
    "movie_collaborative_fitering(user_test[0])"
   ]
  },
  {
   "cell_type": "code",
   "execution_count": 17,
   "metadata": {},
   "outputs": [
    {
     "name": "stdout",
     "output_type": "stream",
     "text": [
      "Recommended movies:\n"
     ]
    },
    {
     "data": {
      "text/html": [
       "<div>\n",
       "<style scoped>\n",
       "    .dataframe tbody tr th:only-of-type {\n",
       "        vertical-align: middle;\n",
       "    }\n",
       "\n",
       "    .dataframe tbody tr th {\n",
       "        vertical-align: top;\n",
       "    }\n",
       "\n",
       "    .dataframe thead th {\n",
       "        text-align: right;\n",
       "    }\n",
       "</style>\n",
       "<table border=\"1\" class=\"dataframe\">\n",
       "  <thead>\n",
       "    <tr style=\"text-align: right;\">\n",
       "      <th></th>\n",
       "      <th>movieId</th>\n",
       "      <th>original_title</th>\n",
       "    </tr>\n",
       "  </thead>\n",
       "  <tbody>\n",
       "    <tr>\n",
       "      <td>2765</td>\n",
       "      <td>26366</td>\n",
       "      <td>Ellen DeGeneres: The Beginning</td>\n",
       "    </tr>\n",
       "    <tr>\n",
       "      <td>1084</td>\n",
       "      <td>1900</td>\n",
       "      <td>Traffic</td>\n",
       "    </tr>\n",
       "    <tr>\n",
       "      <td>3917</td>\n",
       "      <td>84273</td>\n",
       "      <td>Потомок Чингисхана</td>\n",
       "    </tr>\n",
       "    <tr>\n",
       "      <td>255</td>\n",
       "      <td>326</td>\n",
       "      <td>Snakes on a Plane</td>\n",
       "    </tr>\n",
       "    <tr>\n",
       "      <td>1592</td>\n",
       "      <td>3086</td>\n",
       "      <td>The Lady Eve</td>\n",
       "    </tr>\n",
       "  </tbody>\n",
       "</table>\n",
       "</div>"
      ],
      "text/plain": [
       "      movieId                  original_title\n",
       "2765    26366  Ellen DeGeneres: The Beginning\n",
       "1084     1900                         Traffic\n",
       "3917    84273              Потомок Чингисхана\n",
       "255       326               Snakes on a Plane\n",
       "1592     3086                    The Lady Eve"
      ]
     },
     "metadata": {},
     "output_type": "display_data"
    }
   ],
   "source": [
    "movie_collaborative_fitering(user_test[1])"
   ]
  },
  {
   "cell_type": "code",
   "execution_count": 18,
   "metadata": {},
   "outputs": [
    {
     "name": "stdout",
     "output_type": "stream",
     "text": [
      "Recommended movies:\n"
     ]
    },
    {
     "data": {
      "text/html": [
       "<div>\n",
       "<style scoped>\n",
       "    .dataframe tbody tr th:only-of-type {\n",
       "        vertical-align: middle;\n",
       "    }\n",
       "\n",
       "    .dataframe tbody tr th {\n",
       "        vertical-align: top;\n",
       "    }\n",
       "\n",
       "    .dataframe thead th {\n",
       "        text-align: right;\n",
       "    }\n",
       "</style>\n",
       "<table border=\"1\" class=\"dataframe\">\n",
       "  <thead>\n",
       "    <tr style=\"text-align: right;\">\n",
       "      <th></th>\n",
       "      <th>movieId</th>\n",
       "      <th>original_title</th>\n",
       "    </tr>\n",
       "  </thead>\n",
       "  <tbody>\n",
       "    <tr>\n",
       "      <td>1084</td>\n",
       "      <td>1900</td>\n",
       "      <td>Traffic</td>\n",
       "    </tr>\n",
       "    <tr>\n",
       "      <td>2765</td>\n",
       "      <td>26366</td>\n",
       "      <td>Ellen DeGeneres: The Beginning</td>\n",
       "    </tr>\n",
       "    <tr>\n",
       "      <td>1466</td>\n",
       "      <td>2757</td>\n",
       "      <td>Adaptation.</td>\n",
       "    </tr>\n",
       "    <tr>\n",
       "      <td>4378</td>\n",
       "      <td>160718</td>\n",
       "      <td>I Spy Returns</td>\n",
       "    </tr>\n",
       "    <tr>\n",
       "      <td>1353</td>\n",
       "      <td>2330</td>\n",
       "      <td>Taxi</td>\n",
       "    </tr>\n",
       "  </tbody>\n",
       "</table>\n",
       "</div>"
      ],
      "text/plain": [
       "      movieId                  original_title\n",
       "1084     1900                         Traffic\n",
       "2765    26366  Ellen DeGeneres: The Beginning\n",
       "1466     2757                     Adaptation.\n",
       "4378   160718                   I Spy Returns\n",
       "1353     2330                            Taxi"
      ]
     },
     "metadata": {},
     "output_type": "display_data"
    }
   ],
   "source": [
    "movie_collaborative_fitering(user_test[2])"
   ]
  },
  {
   "cell_type": "markdown",
   "metadata": {},
   "source": [
    "The Movie Collaborative Filtering can provide recommendations on movie we haven't rate (WATCH). Lastly, we should run all the dataset instead of 25% of the dataset to see how accurate the result. "
   ]
  }
 ],
 "metadata": {
  "kernelspec": {
   "display_name": "Python 3",
   "language": "python",
   "name": "python3"
  },
  "language_info": {
   "codemirror_mode": {
    "name": "ipython",
    "version": 3
   },
   "file_extension": ".py",
   "mimetype": "text/x-python",
   "name": "python",
   "nbconvert_exporter": "python",
   "pygments_lexer": "ipython3",
   "version": "3.7.4"
  }
 },
 "nbformat": 4,
 "nbformat_minor": 2
}
